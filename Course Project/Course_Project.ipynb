{
 "cells": [
  {
   "cell_type": "markdown",
   "id": "9091b337",
   "metadata": {},
   "source": [
    "# Aprendizagem Automática 2022/2023\n",
    "## Course Project\n",
    "\n",
    "### Grupo 12\n",
    "- Ana Araújo - 59457\n",
    "- Francisco Frazão - 57484\n",
    "- Pedro Almeida - 58844"
   ]
  },
  {
   "cell_type": "markdown",
   "id": "911ac5e7",
   "metadata": {},
   "source": [
    "   For this project, we were given three datasets related to the country's population, fertility rate, and life expectancy from 1960 up to 2016. The main objective is to produce a model that predicts the variables above described, ie. country population, fertility rate, and life expectancy. These variables should be predicted for the year 2017. We must do a comparison with the actual historical data from the World Bank Site.\\\n",
    "   With this data we are going to select the best model, using a few parameter tuning. Also, this work is to be done for only 10 countries, randomly selected. For the predictions, the data that is going to be used corresponds to the last three years known. Based on the data present in the last three years (2014, 2015, and 2016), the year 2017 will be predicted. However as the expectation of the variance is low, we should not use the last three years directly but rather the delta between these three years. This last point is part of the data processing step.\\\n",
    "   Finally, some conclusions will be taken regarding the results obtained from the models."
   ]
  },
  {
   "cell_type": "markdown",
   "id": "f0ae4b0b",
   "metadata": {},
   "source": [
    "#### Content Table\n",
    "\n",
    "#### [1. Data Preprocessing](#section1)\n",
    "- 1.1 Population\n",
    "- 1.2 Fertility\n",
    "- 1.3 Life Expectancy\n",
    "\n",
    "#### [2. Hyperparameter Search](#section2)\n",
    "- 2.1 Decision tree\n",
    "\n",
    "#### [3. Model Evaluation](#section3)\n",
    "- 3.1 Population\n",
    "- 3.2 Fertility\n",
    "- 3.3 Life Expectancy\n",
    "\n",
    "#### [4. Predictions](#section4)\n",
    "- 4.1 Population\n",
    "- 4.2 Fertility\n",
    "- 4.3 Life Expectancy\n",
    "\n",
    "#### [5. Discussion and Conclusions](section#5)"
   ]
  },
  {
   "cell_type": "markdown",
   "id": "c0a3babe",
   "metadata": {},
   "source": [
    "**Import libraries**"
   ]
  },
  {
   "cell_type": "code",
   "execution_count": 1,
   "id": "3d3494be",
   "metadata": {},
   "outputs": [],
   "source": [
    "import pandas as pd\n",
    "import matplotlib.pyplot as plt\n",
    "import seaborn as sns\n",
    "import numpy as np\n",
    "from sklearn.model_selection import KFold, cross_val_score, cross_val_predict, train_test_split, cross_validate, ParameterGrid\n",
    "from sklearn.linear_model import LinearRegression, Ridge\n",
    "from sklearn.metrics import explained_variance_score, mean_squared_error, mean_absolute_error, max_error,accuracy_score\n",
    "from scipy.stats import pearsonr\n",
    "from sklearn.tree import DecisionTreeRegressor\n",
    "\n",
    "import warnings\n",
    "import random\n",
    "warnings.filterwarnings(\"ignore\")"
   ]
  },
  {
   "cell_type": "code",
   "execution_count": 113,
   "id": "77007106",
   "metadata": {},
   "outputs": [],
   "source": [
    "def printRegStatistics(truth, preds):\n",
    "    print(\"The RVE is: \", explained_variance_score(truth, preds))\n",
    "    print(\"The rmse is: \", mean_squared_error(truth, preds, squared=False))\n",
    "    corr, pval = pearsonr(truth, preds)\n",
    "    print(\"The Correlation Score is is: %6.4f (p-value=%e)\"%(corr,pval))\n",
    "    print(\"The Maximum Error is is: \", max_error(truth, preds))\n",
    "    print(\"The Mean Absolute Error is: \", mean_absolute_error(truth, preds))\n",
    "    \n",
    "def calculate_rate_of_change(data):\n",
    "  # Convert the data to a numpy array\n",
    "    data = np.array(data)\n",
    "  # Initialize an empty list to store the rates of change\n",
    "    rates_of_change = []\n",
    "  # Loop through the columns\n",
    "    for i in range(1, data.shape[1]):\n",
    "        rate_of_change = data[:, i] - data[:, i-1]\n",
    "        rates_of_change.append(rate_of_change)\n",
    "    return np.array(rates_of_change).T   \n",
    "    \n",
    "def division(x):\n",
    "    #splits each line of the given df in a way that each line of the new df will be composed\n",
    "    #of df[i][j] followed by increments in j till j+4\n",
    "    new_list = []\n",
    "    for i in range(len(x)):\n",
    "        for j in range(0,len(x.iloc[i])):\n",
    "            if j+4 >= len(x.iloc[i]):\n",
    "                break\n",
    "            else:\n",
    "                new_list.append([x.iloc[i][j],x.iloc[i][j+1],x.iloc[i][j+2],x.iloc[i][j+3],x.iloc[i][j+4]])\n",
    "    new_list = np.array(new_list)\n",
    "    return new_list   \n",
    "\n",
    "def index_country(x):\n",
    "    #multiplica o indice por 53 porque cada país vai ter 53 vezes 4 colunas \n",
    "    index = []\n",
    "    for i in x.index:\n",
    "        for j in range(53):\n",
    "            index.append(i)\n",
    "    return index\n",
    "\n",
    "def sampler(df,df_wb, samples):\n",
    "    #selects randomly 10 contries and returns the data for the last 3 years\n",
    "    ## MUST BE USED RIGTH AFTER THE DF.DROP\n",
    "    X_test=[]\n",
    "    for country in samples:\n",
    "        df1 = df.loc[df['Country Name']==country]\n",
    "        df1 = df1.values\n",
    "        a = [df1[0,-4],df1[0,-3],df1[0,-2],df1[0,-1]]\n",
    "        if None not in a:\n",
    "            X_test.append(a)\n",
    "        else:\n",
    "            b = [df1[0,-5],df1[0,-4],df1[0,-3],df1[0,-2]]\n",
    "            if None not in b:\n",
    "                X_test.append(b)\n",
    "            else:\n",
    "                c = [df1[0,-6],df1[0,-5],df1[0,-4],df1[0,-3]]\n",
    "                if None not in b:\n",
    "                    X_test.append(c)\n",
    "                else:\n",
    "                    a = [df1[0,-7],df1[0,-6],df1[0,-5],df1[0,-4]]\n",
    "                    X_test.append(a)\n",
    "    y_test=[]\n",
    "    real_pop =[]\n",
    "    for country in samples:\n",
    "        a = df_wb.loc[df_wb['Country Name']==country,'2016'].values\n",
    "        b = df_wb.loc[df_wb['Country Name']==country,'2017'].values\n",
    "        y_test.append([float(a),float(b)])  \n",
    "        real_pop.append(float(b))\n",
    "    return calculate_rate_of_change(X_test),calculate_rate_of_change(y_test), real_pop\n",
    "\n",
    "def naif_model_testing(X_train, X_test, y_train, y_test, max_depth, min_samples_leaf, data_2016):\n",
    "    #test 3 approaches and print out the results\n",
    "    \n",
    "    lr = LinearRegression()\n",
    "    lr.fit(X_train,y_train)\n",
    "    preds_lr=lr.predict(X_test)\n",
    "    data=  [float(i+j) for i,j in zip(data_2016, preds_lr)]\n",
    "    \n",
    "    dtr = DecisionTreeRegressor(max_depth=max_depth, min_samples_leaf=min_samples_leaf)\n",
    "    dtr.fit(X_train,y_train)\n",
    "    preds_dtr=dtr.predict(X_test)\n",
    "    \n",
    "    regr = Ridge(alpha=10, max_iter=9999999).fit(X_train, y_train)\n",
    "    preds_regr=regr.predict(X_test)\n",
    "    print(\" - Linear Regression:\")\n",
    "    printRegStatistics(y_test, preds_lr)\n",
    "    print()\n",
    "    print(\" - Decision Tree Regression:\")\n",
    "    printRegStatistics(y_test, preds_dtr)\n",
    "    print()\n",
    "    print(\" - Ridge Regression:\")\n",
    "    printRegStatistics(y_test, preds_regr)\n",
    "    \n",
    "    return data, preds_dtr, preds_regr\n",
    "\n",
    "def metric_evaluation(X_train, X_test, y_train, y_test):\n",
    "    cv = KFold(n_splits=10, random_state=1, shuffle=True)\n",
    "    table = []\n",
    "    #build multiple linear regression model\n",
    "    for i in range(2,20):\n",
    "        for j in range(2,10):\n",
    "            model = DecisionTreeRegressor(max_depth=i, min_samples_leaf=j)\n",
    "    #use k-fold CV to evaluate model\n",
    "            scores = cross_val_score(model, X_train, y_train, scoring='neg_mean_absolute_error',cv=cv, n_jobs=-1)\n",
    "            preds = cross_val_predict(model, X_test,y_test, cv=cv, n_jobs=-1)\n",
    "    #obtain metrics\n",
    "            rmse = mean_squared_error(y_test, preds, squared=False)\n",
    "            mae = mean_absolute_error(y_test, preds)\n",
    "            rve = explained_variance_score(y_test, preds)\n",
    "            corr, pval=pearsonr(y_test, preds)\n",
    "            table.append([i,j,rmse,mae,rve,corr,pval])        \n",
    "    return pd.DataFrame(table, columns=['max depth', 'min sampl leaf', 'rmse','mae','rve','corr','pval']) "
   ]
  },
  {
   "cell_type": "markdown",
   "id": "c5049bba",
   "metadata": {},
   "source": [
    "**Creation of necessary functions:**\\\n",
    "We create the necessary functions for printing the metrics evaluation for each model, calculateion the rate of change, the additional line for the fourth year for each country, mutliplication of the index, for randomly choose 10 countries, train the models and for models validation.\\\n",
    "\\\n",
    "To deal with the missing values, we have made some steps. We have chosen a course of action based on more than just the examination of the deltas. The deltas are always calculated by subtracting T from T-1 and T-2 from T, respectively. In essence, we divided it into groups of four years, with the first three years serving as a predictor for the fourth. As a result, the first line represents the first year and the three years that follow, the second line represents the second year that follows the three years, and so on. Each country will have 53 columns using this method. Another action we have done is to randomly choose 10 countries for analysis, after which we will get data pertaining to the previous four."
   ]
  },
  {
   "cell_type": "markdown",
   "id": "ecddef2c",
   "metadata": {},
   "source": [
    "<a id='section1'></a>\n",
    "## 1. Data Preprocessing\n",
    "We dropped some useless columns, such as “Country Code”, “Indicator\n",
    "Name” and “Indicator Code”. An important remark is to highlight that algorithms with linear regressions don't accept missing values to train, thus we also dropped rows in the transformed dataset with missing values.\n",
    "### 1.1 Population"
   ]
  },
  {
   "cell_type": "code",
   "execution_count": 3,
   "id": "cdf6d64f",
   "metadata": {},
   "outputs": [],
   "source": [
    "df = pd.read_csv('country_population.csv')\n",
    "wb_pop = pd.read_csv('wb_pop.csv')\n",
    "\n",
    "\n",
    "df.drop(['Country Code','Indicator Name','Indicator Code'],axis=1,inplace=True)\n",
    "\n",
    "samples = random.sample(list(df['Country Name'].values), 10)\n",
    "\n",
    "X_test_pop,y_test_pop, pop_2017= sampler(df,wb_pop,samples)\n",
    "\n",
    "\n",
    "pop_2016 = []\n",
    "for country in samples:\n",
    "    a = df.loc[df['Country Name']==country,'2016'].values\n",
    "    pop_2016.append(int(a))\n",
    "\n",
    "df = df.set_index('Country Name')\n",
    "\n",
    "y_test_pop = [float(i) for i in y_test_pop]"
   ]
  },
  {
   "cell_type": "code",
   "execution_count": 5,
   "id": "c3204417",
   "metadata": {
    "scrolled": true
   },
   "outputs": [
    {
     "data": {
      "text/html": [
       "<div>\n",
       "<style scoped>\n",
       "    .dataframe tbody tr th:only-of-type {\n",
       "        vertical-align: middle;\n",
       "    }\n",
       "\n",
       "    .dataframe tbody tr th {\n",
       "        vertical-align: top;\n",
       "    }\n",
       "\n",
       "    .dataframe thead th {\n",
       "        text-align: right;\n",
       "    }\n",
       "</style>\n",
       "<table border=\"1\" class=\"dataframe\">\n",
       "  <thead>\n",
       "    <tr style=\"text-align: right;\">\n",
       "      <th></th>\n",
       "      <th>D0</th>\n",
       "      <th>D1</th>\n",
       "      <th>D2</th>\n",
       "      <th>D3</th>\n",
       "    </tr>\n",
       "  </thead>\n",
       "  <tbody>\n",
       "    <tr>\n",
       "      <th>Aruba</th>\n",
       "      <td>1227.0</td>\n",
       "      <td>787.0</td>\n",
       "      <td>470.0</td>\n",
       "      <td>337.0</td>\n",
       "    </tr>\n",
       "    <tr>\n",
       "      <th>Aruba</th>\n",
       "      <td>787.0</td>\n",
       "      <td>470.0</td>\n",
       "      <td>337.0</td>\n",
       "      <td>328.0</td>\n",
       "    </tr>\n",
       "    <tr>\n",
       "      <th>Aruba</th>\n",
       "      <td>470.0</td>\n",
       "      <td>337.0</td>\n",
       "      <td>328.0</td>\n",
       "      <td>355.0</td>\n",
       "    </tr>\n",
       "    <tr>\n",
       "      <th>Aruba</th>\n",
       "      <td>337.0</td>\n",
       "      <td>328.0</td>\n",
       "      <td>355.0</td>\n",
       "      <td>340.0</td>\n",
       "    </tr>\n",
       "    <tr>\n",
       "      <th>Aruba</th>\n",
       "      <td>328.0</td>\n",
       "      <td>355.0</td>\n",
       "      <td>340.0</td>\n",
       "      <td>331.0</td>\n",
       "    </tr>\n",
       "  </tbody>\n",
       "</table>\n",
       "</div>"
      ],
      "text/plain": [
       "           D0     D1     D2     D3\n",
       "Aruba  1227.0  787.0  470.0  337.0\n",
       "Aruba   787.0  470.0  337.0  328.0\n",
       "Aruba   470.0  337.0  328.0  355.0\n",
       "Aruba   337.0  328.0  355.0  340.0\n",
       "Aruba   328.0  355.0  340.0  331.0"
      ]
     },
     "execution_count": 5,
     "metadata": {},
     "output_type": "execute_result"
    }
   ],
   "source": [
    "# Creates pandas DataFrame.  \n",
    "dg = pd.DataFrame(calculate_rate_of_change(division(df)), index = index_country(df), columns=['D0','D1','D2','D3']) \n",
    "\n",
    "#A ideia é usar D0,D1 e D2 para prever D3\n",
    "dg = dg.dropna()\n",
    "dg.head()"
   ]
  },
  {
   "cell_type": "markdown",
   "id": "7c6de7a2",
   "metadata": {},
   "source": [
    "### 1.2 Fertility"
   ]
  },
  {
   "cell_type": "code",
   "execution_count": 39,
   "id": "a8009dee",
   "metadata": {},
   "outputs": [],
   "source": [
    "df2 = pd.read_csv('fertility_rate.csv')\n",
    "wb_fert = pd.read_csv('wb_fert.csv')\n",
    "\n",
    "\n",
    "df2.drop(['Country Code','Indicator Name','Indicator Code'],axis=1,inplace=True)\n",
    "\n",
    "\n",
    "X_test_fert,y_test_fert,fert_2017= sampler(df2,wb_fert,samples2)\n",
    "\n",
    "fert_2016 = []\n",
    "for country in samples2:\n",
    "    a = df2.loc[df2['Country Name']==country,'2016'].values\n",
    "    fert_2016.append(float(a))\n",
    "\n",
    "df2 = df2.set_index('Country Name')\n",
    "y_test_fert = [float(i) for i in y_test_fert]"
   ]
  },
  {
   "cell_type": "code",
   "execution_count": 40,
   "id": "affd6f98",
   "metadata": {
    "scrolled": true
   },
   "outputs": [
    {
     "data": {
      "text/html": [
       "<div>\n",
       "<style scoped>\n",
       "    .dataframe tbody tr th:only-of-type {\n",
       "        vertical-align: middle;\n",
       "    }\n",
       "\n",
       "    .dataframe tbody tr th {\n",
       "        vertical-align: top;\n",
       "    }\n",
       "\n",
       "    .dataframe thead th {\n",
       "        text-align: right;\n",
       "    }\n",
       "</style>\n",
       "<table border=\"1\" class=\"dataframe\">\n",
       "  <thead>\n",
       "    <tr style=\"text-align: right;\">\n",
       "      <th></th>\n",
       "      <th>D0</th>\n",
       "      <th>D1</th>\n",
       "      <th>D2</th>\n",
       "      <th>D3</th>\n",
       "    </tr>\n",
       "  </thead>\n",
       "  <tbody>\n",
       "    <tr>\n",
       "      <th>Aruba</th>\n",
       "      <td>-0.165</td>\n",
       "      <td>-0.184</td>\n",
       "      <td>-0.200</td>\n",
       "      <td>-0.212</td>\n",
       "    </tr>\n",
       "    <tr>\n",
       "      <th>Aruba</th>\n",
       "      <td>-0.184</td>\n",
       "      <td>-0.200</td>\n",
       "      <td>-0.212</td>\n",
       "      <td>-0.217</td>\n",
       "    </tr>\n",
       "    <tr>\n",
       "      <th>Aruba</th>\n",
       "      <td>-0.200</td>\n",
       "      <td>-0.212</td>\n",
       "      <td>-0.217</td>\n",
       "      <td>-0.217</td>\n",
       "    </tr>\n",
       "    <tr>\n",
       "      <th>Aruba</th>\n",
       "      <td>-0.212</td>\n",
       "      <td>-0.217</td>\n",
       "      <td>-0.217</td>\n",
       "      <td>-0.208</td>\n",
       "    </tr>\n",
       "    <tr>\n",
       "      <th>Aruba</th>\n",
       "      <td>-0.217</td>\n",
       "      <td>-0.217</td>\n",
       "      <td>-0.208</td>\n",
       "      <td>-0.191</td>\n",
       "    </tr>\n",
       "  </tbody>\n",
       "</table>\n",
       "</div>"
      ],
      "text/plain": [
       "          D0     D1     D2     D3\n",
       "Aruba -0.165 -0.184 -0.200 -0.212\n",
       "Aruba -0.184 -0.200 -0.212 -0.217\n",
       "Aruba -0.200 -0.212 -0.217 -0.217\n",
       "Aruba -0.212 -0.217 -0.217 -0.208\n",
       "Aruba -0.217 -0.217 -0.208 -0.191"
      ]
     },
     "execution_count": 40,
     "metadata": {},
     "output_type": "execute_result"
    }
   ],
   "source": [
    "# Creates pandas DataFrame.  \n",
    "dg2 = pd.DataFrame(calculate_rate_of_change(division(df2)), index = index_country(df2), columns=['D0','D1','D2','D3']) \n",
    "\n",
    "#A ideia é usar D0,D1 e D2 para prever D3\n",
    "dg2 = dg2.dropna()\n",
    "dg2.head()"
   ]
  },
  {
   "cell_type": "markdown",
   "id": "9ba70707",
   "metadata": {},
   "source": [
    "### 1.3 Life Expectancy"
   ]
  },
  {
   "cell_type": "code",
   "execution_count": 41,
   "id": "db95d924",
   "metadata": {
    "scrolled": true
   },
   "outputs": [],
   "source": [
    "df3 = pd.read_csv('life_expectancy.csv')\n",
    "wb_le = pd.read_csv('wb_le.csv')\n",
    "\n",
    "\n",
    "df3.drop(['Country Code','Indicator Name','Indicator Code'],axis=1,inplace=True)\n",
    "\n",
    "X_test_le,y_test_le,le_2017= sampler(df3,wb_le,samples)\n",
    "\n",
    "le_2016 = []\n",
    "for country in samples:\n",
    "    a = df3.loc[df3['Country Name']==country,'2016'].values\n",
    "    le_2016.append(float(a))\n",
    "\n",
    "df3 = df3.set_index('Country Name')\n",
    "y_test_le = [float(i) for i in y_test_le]"
   ]
  },
  {
   "cell_type": "code",
   "execution_count": 42,
   "id": "45a70205",
   "metadata": {},
   "outputs": [
    {
     "data": {
      "text/html": [
       "<div>\n",
       "<style scoped>\n",
       "    .dataframe tbody tr th:only-of-type {\n",
       "        vertical-align: middle;\n",
       "    }\n",
       "\n",
       "    .dataframe tbody tr th {\n",
       "        vertical-align: top;\n",
       "    }\n",
       "\n",
       "    .dataframe thead th {\n",
       "        text-align: right;\n",
       "    }\n",
       "</style>\n",
       "<table border=\"1\" class=\"dataframe\">\n",
       "  <thead>\n",
       "    <tr style=\"text-align: right;\">\n",
       "      <th></th>\n",
       "      <th>D0</th>\n",
       "      <th>D1</th>\n",
       "      <th>D2</th>\n",
       "      <th>D3</th>\n",
       "    </tr>\n",
       "  </thead>\n",
       "  <tbody>\n",
       "    <tr>\n",
       "      <th>Aruba</th>\n",
       "      <td>0.412</td>\n",
       "      <td>0.370</td>\n",
       "      <td>0.343</td>\n",
       "      <td>0.326</td>\n",
       "    </tr>\n",
       "    <tr>\n",
       "      <th>Aruba</th>\n",
       "      <td>0.370</td>\n",
       "      <td>0.343</td>\n",
       "      <td>0.326</td>\n",
       "      <td>0.322</td>\n",
       "    </tr>\n",
       "    <tr>\n",
       "      <th>Aruba</th>\n",
       "      <td>0.343</td>\n",
       "      <td>0.326</td>\n",
       "      <td>0.322</td>\n",
       "      <td>0.327</td>\n",
       "    </tr>\n",
       "    <tr>\n",
       "      <th>Aruba</th>\n",
       "      <td>0.326</td>\n",
       "      <td>0.322</td>\n",
       "      <td>0.327</td>\n",
       "      <td>0.333</td>\n",
       "    </tr>\n",
       "    <tr>\n",
       "      <th>Aruba</th>\n",
       "      <td>0.322</td>\n",
       "      <td>0.327</td>\n",
       "      <td>0.333</td>\n",
       "      <td>0.341</td>\n",
       "    </tr>\n",
       "  </tbody>\n",
       "</table>\n",
       "</div>"
      ],
      "text/plain": [
       "          D0     D1     D2     D3\n",
       "Aruba  0.412  0.370  0.343  0.326\n",
       "Aruba  0.370  0.343  0.326  0.322\n",
       "Aruba  0.343  0.326  0.322  0.327\n",
       "Aruba  0.326  0.322  0.327  0.333\n",
       "Aruba  0.322  0.327  0.333  0.341"
      ]
     },
     "execution_count": 42,
     "metadata": {},
     "output_type": "execute_result"
    }
   ],
   "source": [
    "# Creates pandas DataFrame.  \n",
    "dg3 = pd.DataFrame(calculate_rate_of_change(division(df3)), index = index_country(df3), columns=['D0','D1','D2','D3']) \n",
    "\n",
    "#A ideia é usar D0,D1 e D2 para prever D3\n",
    "dg3 = dg3.dropna()\n",
    "dg3.head()"
   ]
  },
  {
   "cell_type": "code",
   "execution_count": 43,
   "id": "43b03a5b",
   "metadata": {},
   "outputs": [],
   "source": [
    "X_pop = dg.drop(columns=['D3'])\n",
    "y_pop = dg['D3']"
   ]
  },
  {
   "cell_type": "code",
   "execution_count": 44,
   "id": "adce0dad",
   "metadata": {},
   "outputs": [],
   "source": [
    "X_fert = dg2.drop(columns=['D3'])\n",
    "y_fert = dg2['D3']"
   ]
  },
  {
   "cell_type": "code",
   "execution_count": 45,
   "id": "a5fa51ac",
   "metadata": {},
   "outputs": [],
   "source": [
    "X_le = dg3.drop(columns=['D3'])\n",
    "y_le = dg3['D3']"
   ]
  },
  {
   "cell_type": "markdown",
   "id": "a2901fa2",
   "metadata": {},
   "source": [
    "All the data obtained from the transformations explained above were used as a\n",
    "training set since the predictions would be for 2017 and the information regarding this year was not included in the training set.\\\n",
    "In order to do the predictions, the deltas of the last four years of each\n",
    "variable/country have been used. Lastly, to test the results against reality, we have resorted to the dataset from the World Bank to the year 2017."
   ]
  },
  {
   "cell_type": "markdown",
   "id": "707c0976",
   "metadata": {},
   "source": [
    "<a id='section2'></a>\n",
    "## 2. Hyperparameters Search\n",
    "We did a hyperparameter search for Decision Tree Regression.\n",
    "### 2.1 Decision Tree\n",
    "#### 2.1.1 Population"
   ]
  },
  {
   "cell_type": "code",
   "execution_count": 77,
   "id": "8a94f09d",
   "metadata": {},
   "outputs": [],
   "source": [
    "X_train_pop, X_test_pop2, y_train_pop, y_test_pop2 = train_test_split(X_pop, y_pop, test_size=0.25, random_state=123)"
   ]
  },
  {
   "cell_type": "code",
   "execution_count": 78,
   "id": "8f9a14be",
   "metadata": {},
   "outputs": [
    {
     "data": {
      "text/html": [
       "<div>\n",
       "<style scoped>\n",
       "    .dataframe tbody tr th:only-of-type {\n",
       "        vertical-align: middle;\n",
       "    }\n",
       "\n",
       "    .dataframe tbody tr th {\n",
       "        vertical-align: top;\n",
       "    }\n",
       "\n",
       "    .dataframe thead th {\n",
       "        text-align: right;\n",
       "    }\n",
       "</style>\n",
       "<table border=\"1\" class=\"dataframe\">\n",
       "  <thead>\n",
       "    <tr style=\"text-align: right;\">\n",
       "      <th></th>\n",
       "      <th>max depth</th>\n",
       "      <th>min sampl leaf</th>\n",
       "      <th>rmse</th>\n",
       "      <th>mae</th>\n",
       "      <th>rve</th>\n",
       "      <th>corr</th>\n",
       "      <th>pval</th>\n",
       "    </tr>\n",
       "  </thead>\n",
       "  <tbody>\n",
       "    <tr>\n",
       "      <th>40</th>\n",
       "      <td>7</td>\n",
       "      <td>2</td>\n",
       "      <td>448602.227899</td>\n",
       "      <td>129352.838065</td>\n",
       "      <td>0.998219</td>\n",
       "      <td>0.999112</td>\n",
       "      <td>0.0</td>\n",
       "    </tr>\n",
       "    <tr>\n",
       "      <th>104</th>\n",
       "      <td>15</td>\n",
       "      <td>2</td>\n",
       "      <td>467732.717858</td>\n",
       "      <td>115906.162835</td>\n",
       "      <td>0.998064</td>\n",
       "      <td>0.999034</td>\n",
       "      <td>0.0</td>\n",
       "    </tr>\n",
       "    <tr>\n",
       "      <th>32</th>\n",
       "      <td>6</td>\n",
       "      <td>2</td>\n",
       "      <td>469884.698898</td>\n",
       "      <td>148542.055677</td>\n",
       "      <td>0.998046</td>\n",
       "      <td>0.999023</td>\n",
       "      <td>0.0</td>\n",
       "    </tr>\n",
       "    <tr>\n",
       "      <th>96</th>\n",
       "      <td>14</td>\n",
       "      <td>2</td>\n",
       "      <td>470394.065299</td>\n",
       "      <td>118170.932321</td>\n",
       "      <td>0.998041</td>\n",
       "      <td>0.999023</td>\n",
       "      <td>0.0</td>\n",
       "    </tr>\n",
       "    <tr>\n",
       "      <th>73</th>\n",
       "      <td>11</td>\n",
       "      <td>3</td>\n",
       "      <td>471288.957974</td>\n",
       "      <td>118143.829529</td>\n",
       "      <td>0.998035</td>\n",
       "      <td>0.999023</td>\n",
       "      <td>0.0</td>\n",
       "    </tr>\n",
       "  </tbody>\n",
       "</table>\n",
       "</div>"
      ],
      "text/plain": [
       "     max depth  min sampl leaf           rmse            mae       rve  \\\n",
       "40           7               2  448602.227899  129352.838065  0.998219   \n",
       "104         15               2  467732.717858  115906.162835  0.998064   \n",
       "32           6               2  469884.698898  148542.055677  0.998046   \n",
       "96          14               2  470394.065299  118170.932321  0.998041   \n",
       "73          11               3  471288.957974  118143.829529  0.998035   \n",
       "\n",
       "         corr  pval  \n",
       "40   0.999112   0.0  \n",
       "104  0.999034   0.0  \n",
       "32   0.999023   0.0  \n",
       "96   0.999023   0.0  \n",
       "73   0.999023   0.0  "
      ]
     },
     "execution_count": 78,
     "metadata": {},
     "output_type": "execute_result"
    }
   ],
   "source": [
    "df_h_pop = metric_evaluation(X_train_pop, X_test_pop2, y_train_pop, y_test_pop2)\n",
    "df_h_pop.sort_values(by=['rmse'], ascending=True).head()"
   ]
  },
  {
   "cell_type": "markdown",
   "id": "83d4333f",
   "metadata": {},
   "source": [
    "#### 2.1.2 Fertility"
   ]
  },
  {
   "cell_type": "code",
   "execution_count": 79,
   "id": "b736eb0e",
   "metadata": {},
   "outputs": [],
   "source": [
    "X_train_fert, X_test_fert2, y_train_fert2, y_test_fert2 = train_test_split(X_fert, y_fert, test_size=0.25, random_state=123)"
   ]
  },
  {
   "cell_type": "code",
   "execution_count": 80,
   "id": "cbe00179",
   "metadata": {
    "scrolled": true
   },
   "outputs": [
    {
     "data": {
      "text/html": [
       "<div>\n",
       "<style scoped>\n",
       "    .dataframe tbody tr th:only-of-type {\n",
       "        vertical-align: middle;\n",
       "    }\n",
       "\n",
       "    .dataframe tbody tr th {\n",
       "        vertical-align: top;\n",
       "    }\n",
       "\n",
       "    .dataframe thead th {\n",
       "        text-align: right;\n",
       "    }\n",
       "</style>\n",
       "<table border=\"1\" class=\"dataframe\">\n",
       "  <thead>\n",
       "    <tr style=\"text-align: right;\">\n",
       "      <th></th>\n",
       "      <th>max depth</th>\n",
       "      <th>min sampl leaf</th>\n",
       "      <th>rmse</th>\n",
       "      <th>mae</th>\n",
       "      <th>rve</th>\n",
       "      <th>corr</th>\n",
       "      <th>pval</th>\n",
       "    </tr>\n",
       "  </thead>\n",
       "  <tbody>\n",
       "    <tr>\n",
       "      <th>27</th>\n",
       "      <td>5</td>\n",
       "      <td>5</td>\n",
       "      <td>0.042025</td>\n",
       "      <td>0.021594</td>\n",
       "      <td>0.653627</td>\n",
       "      <td>0.809381</td>\n",
       "      <td>0.0</td>\n",
       "    </tr>\n",
       "    <tr>\n",
       "      <th>31</th>\n",
       "      <td>5</td>\n",
       "      <td>9</td>\n",
       "      <td>0.042105</td>\n",
       "      <td>0.021429</td>\n",
       "      <td>0.652326</td>\n",
       "      <td>0.808302</td>\n",
       "      <td>0.0</td>\n",
       "    </tr>\n",
       "    <tr>\n",
       "      <th>28</th>\n",
       "      <td>5</td>\n",
       "      <td>6</td>\n",
       "      <td>0.042238</td>\n",
       "      <td>0.021509</td>\n",
       "      <td>0.650114</td>\n",
       "      <td>0.807205</td>\n",
       "      <td>0.0</td>\n",
       "    </tr>\n",
       "    <tr>\n",
       "      <th>30</th>\n",
       "      <td>5</td>\n",
       "      <td>8</td>\n",
       "      <td>0.042290</td>\n",
       "      <td>0.021499</td>\n",
       "      <td>0.649248</td>\n",
       "      <td>0.806465</td>\n",
       "      <td>0.0</td>\n",
       "    </tr>\n",
       "    <tr>\n",
       "      <th>39</th>\n",
       "      <td>6</td>\n",
       "      <td>9</td>\n",
       "      <td>0.042698</td>\n",
       "      <td>0.021429</td>\n",
       "      <td>0.642441</td>\n",
       "      <td>0.803407</td>\n",
       "      <td>0.0</td>\n",
       "    </tr>\n",
       "  </tbody>\n",
       "</table>\n",
       "</div>"
      ],
      "text/plain": [
       "    max depth  min sampl leaf      rmse       mae       rve      corr  pval\n",
       "27          5               5  0.042025  0.021594  0.653627  0.809381   0.0\n",
       "31          5               9  0.042105  0.021429  0.652326  0.808302   0.0\n",
       "28          5               6  0.042238  0.021509  0.650114  0.807205   0.0\n",
       "30          5               8  0.042290  0.021499  0.649248  0.806465   0.0\n",
       "39          6               9  0.042698  0.021429  0.642441  0.803407   0.0"
      ]
     },
     "execution_count": 80,
     "metadata": {},
     "output_type": "execute_result"
    }
   ],
   "source": [
    "df_h_fert = metric_evaluation(X_train_fert, X_test_fert2, y_train_fert2, y_test_fert2)\n",
    "df_h_fert.sort_values(by=['rmse'], ascending=True).head()"
   ]
  },
  {
   "cell_type": "markdown",
   "id": "398f3ed5",
   "metadata": {},
   "source": [
    "#### 2.1.3 Life Expectancy"
   ]
  },
  {
   "cell_type": "code",
   "execution_count": 81,
   "id": "16ba839d",
   "metadata": {},
   "outputs": [],
   "source": [
    "X_train_le, X_test_le2, y_train_le, y_test_le2 = train_test_split(X_le, y_le, test_size=0.25, random_state=123)"
   ]
  },
  {
   "cell_type": "code",
   "execution_count": 82,
   "id": "c5cccf4a",
   "metadata": {},
   "outputs": [
    {
     "data": {
      "text/html": [
       "<div>\n",
       "<style scoped>\n",
       "    .dataframe tbody tr th:only-of-type {\n",
       "        vertical-align: middle;\n",
       "    }\n",
       "\n",
       "    .dataframe tbody tr th {\n",
       "        vertical-align: top;\n",
       "    }\n",
       "\n",
       "    .dataframe thead th {\n",
       "        text-align: right;\n",
       "    }\n",
       "</style>\n",
       "<table border=\"1\" class=\"dataframe\">\n",
       "  <thead>\n",
       "    <tr style=\"text-align: right;\">\n",
       "      <th></th>\n",
       "      <th>max depth</th>\n",
       "      <th>min sampl leaf</th>\n",
       "      <th>rmse</th>\n",
       "      <th>mae</th>\n",
       "      <th>rve</th>\n",
       "      <th>corr</th>\n",
       "      <th>pval</th>\n",
       "    </tr>\n",
       "  </thead>\n",
       "  <tbody>\n",
       "    <tr>\n",
       "      <th>47</th>\n",
       "      <td>7</td>\n",
       "      <td>9</td>\n",
       "      <td>0.213764</td>\n",
       "      <td>0.096740</td>\n",
       "      <td>0.605188</td>\n",
       "      <td>0.780424</td>\n",
       "      <td>0.0</td>\n",
       "    </tr>\n",
       "    <tr>\n",
       "      <th>52</th>\n",
       "      <td>8</td>\n",
       "      <td>6</td>\n",
       "      <td>0.214336</td>\n",
       "      <td>0.095416</td>\n",
       "      <td>0.603085</td>\n",
       "      <td>0.781604</td>\n",
       "      <td>0.0</td>\n",
       "    </tr>\n",
       "    <tr>\n",
       "      <th>55</th>\n",
       "      <td>8</td>\n",
       "      <td>9</td>\n",
       "      <td>0.214431</td>\n",
       "      <td>0.095192</td>\n",
       "      <td>0.602722</td>\n",
       "      <td>0.779490</td>\n",
       "      <td>0.0</td>\n",
       "    </tr>\n",
       "    <tr>\n",
       "      <th>44</th>\n",
       "      <td>7</td>\n",
       "      <td>6</td>\n",
       "      <td>0.214451</td>\n",
       "      <td>0.096639</td>\n",
       "      <td>0.602664</td>\n",
       "      <td>0.780470</td>\n",
       "      <td>0.0</td>\n",
       "    </tr>\n",
       "    <tr>\n",
       "      <th>60</th>\n",
       "      <td>9</td>\n",
       "      <td>6</td>\n",
       "      <td>0.214476</td>\n",
       "      <td>0.094420</td>\n",
       "      <td>0.602556</td>\n",
       "      <td>0.781755</td>\n",
       "      <td>0.0</td>\n",
       "    </tr>\n",
       "  </tbody>\n",
       "</table>\n",
       "</div>"
      ],
      "text/plain": [
       "    max depth  min sampl leaf      rmse       mae       rve      corr  pval\n",
       "47          7               9  0.213764  0.096740  0.605188  0.780424   0.0\n",
       "52          8               6  0.214336  0.095416  0.603085  0.781604   0.0\n",
       "55          8               9  0.214431  0.095192  0.602722  0.779490   0.0\n",
       "44          7               6  0.214451  0.096639  0.602664  0.780470   0.0\n",
       "60          9               6  0.214476  0.094420  0.602556  0.781755   0.0"
      ]
     },
     "execution_count": 82,
     "metadata": {},
     "output_type": "execute_result"
    }
   ],
   "source": [
    "df_h_le = metric_evaluation(X_train_le, X_test_le2, y_train_le, y_test_le2)\n",
    "df_h_le.sort_values(by=['rmse'], ascending=True).head()"
   ]
  },
  {
   "cell_type": "markdown",
   "id": "e9f6bbdb",
   "metadata": {},
   "source": [
    "<a id='section3'></a>\n",
    "## 3. Model Evaluation\n",
    "Over this part, three regression models have been chosen: Linear Regression,\n",
    "Decision Trees, and Ridge Regression. These models have been fitted with the data coming from the three variables under analysis: population, fertility, and life expectancy.\\\n",
    "\\\n",
    "The data to test are not integrated into the train data, therefore the split was not done. Otherwise we could be exposed to the risk of overfitting.\n",
    "### 3.1 Population"
   ]
  },
  {
   "cell_type": "code",
   "execution_count": 95,
   "id": "99d8061a",
   "metadata": {
    "scrolled": true
   },
   "outputs": [
    {
     "name": "stdout",
     "output_type": "stream",
     "text": [
      " - Linear Regression:\n",
      "The RVE is:  0.9993246362865138\n",
      "The rmse is:  276235.3226545486\n",
      "The Correlation Score is is: 0.9997 (p-value=0.000000e+00)\n",
      "The Maximum Error is is:  3781791.8378947377\n",
      "The Mean Absolute Error is:  77510.50302793038\n",
      "\n",
      " - Decision Tree Regression:\n",
      "The RVE is:  0.999531451504452\n",
      "The rmse is:  230066.2146520809\n",
      "The Correlation Score is is: 0.9998 (p-value=0.000000e+00)\n",
      "The Maximum Error is is:  2731588.703703705\n",
      "The Mean Absolute Error is:  85775.80120172768\n",
      "\n",
      " - Ridge Regression:\n",
      "The RVE is:  0.9993246362865138\n",
      "The rmse is:  276235.3226545369\n",
      "The Correlation Score is is: 0.9997 (p-value=0.000000e+00)\n",
      "The Maximum Error is is:  3781791.8378959\n",
      "The Mean Absolute Error is:  77510.50302792876\n"
     ]
    }
   ],
   "source": [
    "prediction_lr, prediction_dtr, prediction_rr = naif_model_testing(X_pop, X_test_pop, y_pop, y_test_pop, 7, 2, pop_2016)"
   ]
  },
  {
   "cell_type": "code",
   "execution_count": 121,
   "id": "889fd05f",
   "metadata": {
    "scrolled": true
   },
   "outputs": [
    {
     "data": {
      "image/png": "[encoded data removed]",
      "text/plain": [
       "<Figure size 400x400 with 1 Axes>"
      ]
     },
     "metadata": {},
     "output_type": "display_data"
    }
   ],
   "source": [
    "plt.figure(figsize=(4,4))\n",
    "plt.plot(range(len(prediction_lr)),prediction_lr, label = 'predicted data' )\n",
    "plt.plot(range(len(pop_2017)),pop_2017, label='real data')\n",
    "plt.grid()\n",
    "plt.legend()\n",
    "plt.show()"
   ]
  },
  {
   "cell_type": "markdown",
   "id": "43dcc998",
   "metadata": {},
   "source": [
    "Regarding the population, the results obtained are very good with all models. This applies to Linear Regression, Decision Trees, and Ridge Regression. For Linear Regression we have an RVE of more than 0,999. For Decision Trees the values are not much different, always with results above 0,999, and for Ridge\n",
    "Regression, the same scenario, with values above 0,999. All the values give signs of very good predictions, and when we put in comparison the real data, facing the predicted counterparts, we barely can distinguish both lines. Still, we did some research on choosing the best hyperparameters for the values given by Decision Trees.\\\n",
    "Also, the correlation scores for the three models were very close to 1. This can be effectively seen when comparing the real data with the predicted one. "
   ]
  },
  {
   "cell_type": "markdown",
   "id": "58f91ee5",
   "metadata": {},
   "source": [
    "### 3.2 Fertility"
   ]
  },
  {
   "cell_type": "code",
   "execution_count": 102,
   "id": "a8c60f02",
   "metadata": {
    "scrolled": true
   },
   "outputs": [
    {
     "name": "stdout",
     "output_type": "stream",
     "text": [
      " - Linear Regression:\n",
      "The RVE is:  -0.3518422702371442\n",
      "The rmse is:  0.04155885388369767\n",
      "The Correlation Score is is: 0.1841 (p-value=6.107247e-01)\n",
      "The Maximum Error is is:  0.10421779533788686\n",
      "The Mean Absolute Error is:  0.030910960020573176\n",
      "\n",
      " - Decision Tree Regression:\n",
      "The RVE is:  -0.7210727920934648\n",
      "The rmse is:  0.04806914671702207\n",
      "The Correlation Score is is: 0.1203 (p-value=7.405818e-01)\n",
      "The Maximum Error is is:  0.1118318581743539\n",
      "The Mean Absolute Error is:  0.03466930118594254\n",
      "\n",
      " - Ridge Regression:\n",
      "The RVE is:  -0.29248481985602437\n",
      "The rmse is:  0.040461662541377126\n",
      "The Correlation Score is is: 0.1868 (p-value=6.052672e-01)\n",
      "The Maximum Error is is:  0.10204221499790775\n",
      "The Mean Absolute Error is:  0.030139931929677267\n"
     ]
    }
   ],
   "source": [
    "prediction2_lr, prediction2_dtr, prediction2_rr = naif_model_testing(X_fert, X_test_fert, y_fert, y_test_fert, 5, 5, fert_2016)"
   ]
  },
  {
   "cell_type": "code",
   "execution_count": 117,
   "id": "a945f633",
   "metadata": {
    "scrolled": true
   },
   "outputs": [
    {
     "data": {
      "image/png": "[encoded data removed]",
      "text/plain": [
       "<Figure size 500x500 with 1 Axes>"
      ]
     },
     "metadata": {},
     "output_type": "display_data"
    }
   ],
   "source": [
    "plt.figure(figsize=(4,4))\n",
    "plt.plot(range(len(prediction2_lr)),prediction2_lr, label = 'predicted data' )\n",
    "plt.plot(range(len(fert_2017)),fert_2017, label='real data')\n",
    "plt.grid()\n",
    "plt.legend()\n",
    "plt.show()"
   ]
  },
  {
   "cell_type": "markdown",
   "id": "fabbe3fb",
   "metadata": {},
   "source": [
    "As for the fertility variable, the results were not so promising. Both models have struggled to give good predictions. The scores, namely the RVE are low.\n",
    "Even so, this is not an impediment to our models not capturing the signals of the correlations. How it can be seen in plot 2, despite the predictions not being accurate, the signals were captured by the models. Our metric score,\n",
    "RVE, for this specific variable has been negative for all the models. We have obtained an RVE value for Linear Regression of - 0,352, for Decision Tree Regression of -0,721, and for Ridge Regression of -0,292. This means there\n",
    "exists a negative correlation between these variables. Nevertheless, as it is possible to observe both by the plot 2 and the predictions below, the values predicted are not that much outliers. The highest correlation score obtained has been for Linear Regression and it is a value of 0,184."
   ]
  },
  {
   "cell_type": "markdown",
   "id": "4ff3b089",
   "metadata": {},
   "source": [
    "### 3.3 Life Expectancy"
   ]
  },
  {
   "cell_type": "code",
   "execution_count": 104,
   "id": "388c8090",
   "metadata": {
    "scrolled": true
   },
   "outputs": [
    {
     "name": "stdout",
     "output_type": "stream",
     "text": [
      " - Linear Regression:\n",
      "The RVE is:  0.6910653492678249\n",
      "The rmse is:  0.11091239237105113\n",
      "The Correlation Score is is: 0.8394 (p-value=2.384600e-03)\n",
      "The Maximum Error is is:  0.18732877217452598\n",
      "The Mean Absolute Error is:  0.09130533928241824\n",
      "\n",
      " - Decision Tree Regression:\n",
      "The RVE is:  -0.09467729088268273\n",
      "The rmse is:  0.18687099882366298\n",
      "The Correlation Score is is: 0.2415 (p-value=5.014621e-01)\n",
      "The Maximum Error is is:  0.3224978270694364\n",
      "The Mean Absolute Error is:  0.15607697494217335\n",
      "\n",
      " - Ridge Regression:\n",
      "The RVE is:  0.695850632435854\n",
      "The rmse is:  0.10969219196134755\n",
      "The Correlation Score is is: 0.8415 (p-value=2.271794e-03)\n",
      "The Maximum Error is is:  0.18418815089149604\n",
      "The Mean Absolute Error is:  0.09056090457179275\n"
     ]
    }
   ],
   "source": [
    "prediction3_lr, predicyion3_dtr, prediction3_rr = naif_model_testing(X_le, X_test_le, y_le, y_test_le, 7, 9, le_2016)"
   ]
  },
  {
   "cell_type": "code",
   "execution_count": 122,
   "id": "d3f1f17f",
   "metadata": {
    "scrolled": true
   },
   "outputs": [
    {
     "data": {
      "image/png": "[encoded data removed]",
      "text/plain": [
       "<Figure size 400x400 with 1 Axes>"
      ]
     },
     "metadata": {},
     "output_type": "display_data"
    }
   ],
   "source": [
    "plt.figure(figsize=(4,4))\n",
    "plt.plot(range(len(prediction3_lr)),prediction3_lr, label = 'predicted data' )\n",
    "plt.plot(range(len(le_2017)),le_2017, label='real data')\n",
    "plt.grid()\n",
    "plt.legend()\n",
    "plt.show()"
   ]
  },
  {
   "cell_type": "markdown",
   "id": "57f54fde",
   "metadata": {},
   "source": [
    "This variable, along with fertility, was not so well predicted either. However in this case the values for the metrics we have evaluated have performed better. For Linear Regression we have obtained an RVE value of 0,691, for Decision Tree Regression, -0,095, and for Ridge Regression a very similar value when compared to the one obtained through Decision Tree, 0,696. Moreover, when we observe both the plot and the predictions below it is possible to figure out that this Life Expectancy variable has been predicted in a very close way against the real data."
   ]
  },
  {
   "cell_type": "markdown",
   "id": "81b05d4d",
   "metadata": {},
   "source": [
    "<a id='section4'></a>\n",
    "## 4. Predictions\n",
    "### 4.1 Population"
   ]
  },
  {
   "cell_type": "code",
   "execution_count": 114,
   "id": "dcb360d9",
   "metadata": {
    "scrolled": true
   },
   "outputs": [
    {
     "name": "stdout",
     "output_type": "stream",
     "text": [
      "\n",
      " Slovak Republic: Predicted population in 2017 would be 5435852 but the real population is 5439232.0\n",
      "\n",
      " Peru: Predicted population in 2017 would be 34193606 but the real population is 31605486.0\n",
      "\n",
      " Kazakhstan: Predicted population in 2017 would be 18495775 but the real population is 18037776.0\n",
      "\n",
      " South Asia (IDA & IBRD): Predicted population in 2017 would be 1766399632 but the real population is 1818868706.0\n",
      "\n",
      " Ethiopia: Predicted population in 2017 would be 102561595 but the real population is 108197950.0\n",
      "\n",
      " Latin America & the Caribbean (IDA & IBRD countries): Predicted population in 2017 would be 628005575 but the real population is 617875842.0\n",
      "\n",
      " Austria: Predicted population in 2017 would be 54706646 but the real population is 8797566.0\n",
      "\n",
      " Jordan: Predicted population in 2017 would be 9513980 but the real population is 10215381.0\n",
      "\n",
      " Early-demographic dividend: Predicted population in 2017 would be 3170676849 but the real population is 3252529883.0\n",
      "\n",
      " Sweden: Predicted population in 2017 would be 9923378 but the real population is 10057698.0\n"
     ]
    }
   ],
   "source": [
    "for country,pred, real in zip(samples, prediction_lr, pop_2017):\n",
    "    print(f\"\\n {country}: Predicted population in 2017 would be {pred} but the real population is {real}\")"
   ]
  },
  {
   "cell_type": "markdown",
   "id": "9ba6edec",
   "metadata": {},
   "source": [
    "### 4.2 Fertility"
   ]
  },
  {
   "cell_type": "code",
   "execution_count": 115,
   "id": "2ef5ef66",
   "metadata": {
    "scrolled": true
   },
   "outputs": [
    {
     "name": "stdout",
     "output_type": "stream",
     "text": [
      "\n",
      " Slovak Republic: Predicted fertility in 2017 would be 4 but the real fertility is 4.39\n",
      "\n",
      " Peru: Predicted fertility in 2017 would be 1 but the real fertility is 1.49\n",
      "\n",
      " Kazakhstan: Predicted fertility in 2017 would be 2 but the real fertility is 2.496\n",
      "\n",
      " South Asia (IDA & IBRD): Predicted fertility in 2017 would be 1 but the real fertility is 1.95382639771591\n",
      "\n",
      " Ethiopia: Predicted fertility in 2017 would be 1 but the real fertility is 1.839\n",
      "\n",
      " Latin America & the Caribbean (IDA & IBRD countries): Predicted fertility in 2017 would be 2 but the real fertility is 2.006\n",
      "\n",
      " Austria: Predicted fertility in 2017 would be 3 but the real fertility is 3.01792967354235\n",
      "\n",
      " Jordan: Predicted fertility in 2017 would be 3 but the real fertility is 3.38160941952177\n",
      "\n",
      " Early-demographic dividend: Predicted fertility in 2017 would be 4 but the real fertility is 4.503\n",
      "\n",
      " Sweden: Predicted fertility in 2017 would be 2 but the real fertility is 2.865\n"
     ]
    }
   ],
   "source": [
    "for country,pred, real in zip(samples, prediction2_lr, fert_2017):\n",
    "    print(f\"\\n {country}: Predicted fertility in 2017 would be {pred} but the real fertility is {real}\")"
   ]
  },
  {
   "cell_type": "markdown",
   "id": "7f0d8b3b",
   "metadata": {},
   "source": [
    "### 4.3 Life Expectancy"
   ]
  },
  {
   "cell_type": "code",
   "execution_count": 109,
   "id": "9961a792",
   "metadata": {
    "scrolled": false
   },
   "outputs": [
    {
     "name": "stdout",
     "output_type": "stream",
     "text": [
      "\n",
      " Slovak Republic: Predicted life expectancy in 2017 would be 76 but the real life expectancy is 77.1658536585366\n",
      "\n",
      " Peru: Predicted life expectancy in 2017 would be 75 but the real life expectancy is 75.879\n",
      "\n",
      " Kazakhstan: Predicted life expectancy in 2017 would be 72 but the real life expectancy is 72.95\n",
      "\n",
      " South Asia (IDA & IBRD): Predicted life expectancy in 2017 would be 68 but the real life expectancy is 69.9791020756437\n",
      "\n",
      " Ethiopia: Predicted life expectancy in 2017 would be 65 but the real life expectancy is 64.838\n",
      "\n",
      " Latin America & the Caribbean (IDA & IBRD countries): Predicted life expectancy in 2017 would be 75 but the real life expectancy is 74.6563800397882\n",
      "\n",
      " Austria: Predicted life expectancy in 2017 would be 80 but the real life expectancy is 81.6439024390244\n",
      "\n",
      " Jordan: Predicted life expectancy in 2017 would be 74 but the real life expectancy is 75.502\n",
      "\n",
      " Early-demographic dividend: Predicted life expectancy in 2017 would be 70 but the real life expectancy is 70.5420565547556\n",
      "\n",
      " Sweden: Predicted life expectancy in 2017 would be 82 but the real life expectancy is 82.409756097561\n"
     ]
    }
   ],
   "source": [
    "for country,pred, real in zip(samples, prediction3_lr, le_2017):\n",
    "    print(f\"\\n {country}: Predicted life expectancy in 2017 would be {pred} but the real life expectancy is {real}\")"
   ]
  },
  {
   "cell_type": "markdown",
   "id": "29eb004c",
   "metadata": {},
   "source": [
    "<a id='section5'></a>\n",
    "## 5. Discussion and Conclusions\n",
    "\\\n",
    "The fact that the X_Test and Y_Test data include missing values is undoubtedly one of the project's potential enhancements. Although we are aware that some algorithms cannot accept missing numbers, because our data is chosen at random, occasionally the algorithms identify missing values and report an error. An implementation in the code where each time the entire process discovers a missing value it will hop to the next one until it finds no missing values would be a potential remedy to this problem.\\\n",
    "We have deliberately chosen not to include the Ridge Regression hyperparameter search since the first time we tried it, the results were the same, so we continue with the default settings.\\\n",
    "It is clear from the projections themselves that the variable population produced superior outcomes. We may have gotten better results for the other two variables if we had tried various methods and tested different models. It is crucial to emphasize that the random countries chosen have a significant impact on these outcomes. Because even while we can get better results using the same models for certain countries, the situation is different for others with more erratic data."
   ]
  }
 ],
 "metadata": {
  "kernelspec": {
   "display_name": "Python 3 (ipykernel)",
   "language": "python",
   "name": "python3"
  },
  "language_info": {
   "codemirror_mode": {
    "name": "ipython",
    "version": 3
   },
   "file_extension": ".py",
   "mimetype": "text/x-python",
   "name": "python",
   "nbconvert_exporter": "python",
   "pygments_lexer": "ipython3",
   "version": "3.9.13"
  }
 },
 "nbformat": 4,
 "nbformat_minor": 5
}
