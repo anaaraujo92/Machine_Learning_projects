{
 "cells": [
  {
   "cell_type": "markdown",
   "id": "d476a1a9",
   "metadata": {},
   "source": [
    "# Aprendizagem Automatica 2022/2023\n",
    "## First Home Assignment\n",
    "\n",
    "**Team:**\n",
    "\n",
    "- Ana Araújo\n",
    "- Francisco Frazão\n",
    "- Pedro Almeida\n",
    "\n",
    "**Content Table:**\\\n",
    "\\\n",
    "[Introduction](#section1)\\\n",
    "\\\n",
    "[1. Regression Models](#section2)\n",
    "- 1.1 Decision Tree Regressor\n",
    "- 1.2 Regression\n",
    "    - 1.2.1 Linear Regression\n",
    "    - 1.2.2 Ridge Regression\n",
    "    - 1.2.3 Lasso\n",
    "- 1.3 Model Selection\\\n",
    "\n",
    "[2. Classification Models](#section3)\n",
    "- 2.1 Decision Tree Classifier\n",
    "- 2.2 Logistic Regression"
   ]
  },
  {
   "cell_type": "markdown",
   "id": "cb11eef4",
   "metadata": {},
   "source": [
    "<a id='section1'></a>\n",
    "## Introduction:\n",
    "Two goals were established for this first project: creating a regression model and a classification model. For both, the aim was to achieve the best model for a specific variable we wanted to predict, the motor_UPDRS for objective 1 and total_UPDRS for objective 2. \n",
    "The motor_UPDRS and the total_UPDRS were not used as independent variables in the model because of their strong correlation. The variable named subject# was removed from the dataset because it only has an ID number correlation. These models would be created for individual people and produce unreliable good outcomes if the variable #subjects were included in the models.\n"
   ]
  },
  {
   "cell_type": "markdown",
   "id": "bb7f2f48",
   "metadata": {},
   "source": [
    "**Import Libraries:**"
   ]
  },
  {
   "cell_type": "code",
   "execution_count": 1,
   "id": "cb2712e4",
   "metadata": {},
   "outputs": [
    {
     "name": "stderr",
     "output_type": "stream",
     "text": [
      "C:\\Users\\arauj\\anaconda3\\lib\\site-packages\\numpy\\_distributor_init.py:30: UserWarning: loaded more than 1 DLL from .libs:\n",
      "C:\\Users\\arauj\\anaconda3\\lib\\site-packages\\numpy\\.libs\\libopenblas.FB5AE2TYXYH2IJRDKGDGQ3XBKLKTF43H.gfortran-win_amd64.dll\n",
      "C:\\Users\\arauj\\anaconda3\\lib\\site-packages\\numpy\\.libs\\libopenblas.gk7gx5keq4f6uyo3p26ulgbqyhgqo7j4.gfortran-win_amd64.dll\n",
      "  warnings.warn(\"loaded more than 1 DLL from .libs:\"\n"
     ]
    }
   ],
   "source": [
    "from sklearn.model_selection import KFold, cross_val_score, cross_val_predict, train_test_split, cross_validate, KFold, ParameterGrid\n",
    "from sklearn.metrics import precision_score, recall_score, f1_score, matthews_corrcoef, confusion_matrix, explained_variance_score, mean_squared_error, mean_absolute_error,accuracy_score\n",
    "import numpy as np\n",
    "import pandas as pd\n",
    "import matplotlib.pyplot as plt\n",
    "import seaborn as sns\n",
    "from numpy import mean, absolute, sqrt\n",
    "from scipy.stats import pearsonr\n",
    "from sklearn import tree\n",
    "from sklearn.linear_model import LinearRegression, Ridge, Lasso, LogisticRegression\n",
    "from sklearn.tree import DecisionTreeRegressor, DecisionTreeClassifier, plot_tree\n",
    "from sklearn.preprocessing import StandardScaler"
   ]
  },
  {
   "cell_type": "markdown",
   "id": "4ba613af",
   "metadata": {},
   "source": [
    "**Import Data:**"
   ]
  },
  {
   "cell_type": "code",
   "execution_count": 2,
   "id": "addc216e",
   "metadata": {},
   "outputs": [],
   "source": [
    "df = pd.read_csv(\"parkinsons_updrs.data\")"
   ]
  },
  {
   "cell_type": "code",
   "execution_count": 3,
   "id": "221eef6f",
   "metadata": {},
   "outputs": [],
   "source": [
    "df = df.drop(columns = ['total_UPDRS','subject#'])"
   ]
  },
  {
   "cell_type": "code",
   "execution_count": 4,
   "id": "9ce74662",
   "metadata": {},
   "outputs": [],
   "source": [
    "X = df.drop(columns=[\"motor_UPDRS\"])\n",
    "y = df[\"motor_UPDRS\"]"
   ]
  },
  {
   "cell_type": "markdown",
   "id": "1d413b19",
   "metadata": {},
   "source": [
    "#### Split into training, test and independent validation set"
   ]
  },
  {
   "cell_type": "code",
   "execution_count": 5,
   "id": "bf9d4591",
   "metadata": {},
   "outputs": [
    {
     "name": "stdout",
     "output_type": "stream",
     "text": [
      "(2637, 19)\n",
      "(1939, 19)\n",
      "(1299, 19)\n"
     ]
    }
   ],
   "source": [
    "X_train, X_test, y_train, y_test = train_test_split(X, y, test_size=0.33, random_state=22)\n",
    "X_train, X_IVS, y_train, y_IVS = train_test_split(X_train, y_train, test_size=0.33, random_state=22)\n",
    "print(X_train.shape)\n",
    "print(X_test.shape)\n",
    "print(X_IVS.shape)"
   ]
  },
  {
   "cell_type": "markdown",
   "id": "dbe72e1d",
   "metadata": {},
   "source": [
    "<a id='section2'></a>\n",
    "## 1. 1. Regression Models\n",
    "To evaluate regressions we can use:\n",
    "- person correlation between of predictions(preds) and truth(y_test)\n",
    "- maximum error\n",
    "- mean absolut error(mae) correlated with rmse but with more insights"
   ]
  },
  {
   "cell_type": "markdown",
   "id": "434c4bd2",
   "metadata": {},
   "source": [
    "For regression models, four models were used: Decision Tree Regressor, Linear Regression, Ridge Regression and Lasso Regression. \n",
    "To verify which model is more suitable, the following estimators were calculated: \n",
    "- maximum error\n",
    "- Mean Absolute Error (MAE)\n",
    "- Ratio of the Variance Explained (RVE)\n",
    "- Root Mean Squared Error (RMSE)\n",
    "- Pearson Correlation between of predictions(preds) and truth(y_test). \n",
    "\n",
    "All models were evaluated through a 10 splits K-Fold Cross Validation.\n",
    "\n",
    "Changes were performed  in order to tune the models’s hyperparameters and, thus, obtain the best results.\n"
   ]
  },
  {
   "cell_type": "markdown",
   "id": "188629a8",
   "metadata": {},
   "source": [
    "### 1.1 Decision Tree Regressor\n",
    "\n",
    "For decision tree regressor some hyperparameters were tuned such as the max depth, the min samples leaf and min samples split. A minimum of samples leaves equal to 1 should not be used as it can induce unreliable results when testing, since it can overfit. \n",
    "\n",
    "Then, to assess the best configuration of the hyperparameters, several values were tested, using a for loop to run through them all."
   ]
  },
  {
   "cell_type": "code",
   "execution_count": 6,
   "id": "0a8e6489",
   "metadata": {},
   "outputs": [],
   "source": [
    "cv = KFold(n_splits=10, random_state=1, shuffle=True)\n",
    "table = []\n",
    "#build multiple linear regression model\n",
    "for i in range(12,20):\n",
    "    for j in range(2,10):\n",
    "        model = DecisionTreeRegressor(max_depth=i, min_samples_leaf=j)\n",
    "#use k-fold CV to evaluate model\n",
    "        scores = cross_val_score(model, X_train, y_train, scoring='neg_mean_absolute_error',cv=cv, n_jobs=-1)\n",
    "        preds = cross_val_predict(model, X_test,y_test, cv=cv, n_jobs=-1)\n",
    "#obtain metrics\n",
    "        rmse = mean_squared_error(y_test, preds, squared=False)\n",
    "        mae = mean_absolute_error(y_test, preds)\n",
    "        rve = explained_variance_score(y_test, preds)\n",
    "        corr, pval=pearsonr(y_test, preds)\n",
    "        table.append([i,j,rmse,mae,rve,corr,pval])        \n",
    "df_table = pd.DataFrame(table, columns=['max depth', 'min sampl leaf', 'rmse','mae','rve','corr','pval'])    "
   ]
  },
  {
   "cell_type": "code",
   "execution_count": 7,
   "id": "871708e2",
   "metadata": {
    "scrolled": true
   },
   "outputs": [
    {
     "data": {
      "text/html": [
       "<div>\n",
       "<style scoped>\n",
       "    .dataframe tbody tr th:only-of-type {\n",
       "        vertical-align: middle;\n",
       "    }\n",
       "\n",
       "    .dataframe tbody tr th {\n",
       "        vertical-align: top;\n",
       "    }\n",
       "\n",
       "    .dataframe thead th {\n",
       "        text-align: right;\n",
       "    }\n",
       "</style>\n",
       "<table border=\"1\" class=\"dataframe\">\n",
       "  <thead>\n",
       "    <tr style=\"text-align: right;\">\n",
       "      <th></th>\n",
       "      <th>max depth</th>\n",
       "      <th>min sampl leaf</th>\n",
       "      <th>rmse</th>\n",
       "      <th>mae</th>\n",
       "      <th>rve</th>\n",
       "      <th>corr</th>\n",
       "      <th>pval</th>\n",
       "    </tr>\n",
       "  </thead>\n",
       "  <tbody>\n",
       "    <tr>\n",
       "      <th>9</th>\n",
       "      <td>13</td>\n",
       "      <td>3</td>\n",
       "      <td>3.470559</td>\n",
       "      <td>1.570764</td>\n",
       "      <td>0.816130</td>\n",
       "      <td>0.905716</td>\n",
       "      <td>0.0</td>\n",
       "    </tr>\n",
       "    <tr>\n",
       "      <th>17</th>\n",
       "      <td>14</td>\n",
       "      <td>3</td>\n",
       "      <td>3.481730</td>\n",
       "      <td>1.580076</td>\n",
       "      <td>0.814942</td>\n",
       "      <td>0.905109</td>\n",
       "      <td>0.0</td>\n",
       "    </tr>\n",
       "    <tr>\n",
       "      <th>25</th>\n",
       "      <td>15</td>\n",
       "      <td>3</td>\n",
       "      <td>3.525702</td>\n",
       "      <td>1.567968</td>\n",
       "      <td>0.810238</td>\n",
       "      <td>0.903177</td>\n",
       "      <td>0.0</td>\n",
       "    </tr>\n",
       "    <tr>\n",
       "      <th>26</th>\n",
       "      <td>15</td>\n",
       "      <td>4</td>\n",
       "      <td>3.531189</td>\n",
       "      <td>1.631154</td>\n",
       "      <td>0.809663</td>\n",
       "      <td>0.902512</td>\n",
       "      <td>0.0</td>\n",
       "    </tr>\n",
       "    <tr>\n",
       "      <th>50</th>\n",
       "      <td>18</td>\n",
       "      <td>4</td>\n",
       "      <td>3.536293</td>\n",
       "      <td>1.624029</td>\n",
       "      <td>0.809142</td>\n",
       "      <td>0.902472</td>\n",
       "      <td>0.0</td>\n",
       "    </tr>\n",
       "    <tr>\n",
       "      <th>...</th>\n",
       "      <td>...</td>\n",
       "      <td>...</td>\n",
       "      <td>...</td>\n",
       "      <td>...</td>\n",
       "      <td>...</td>\n",
       "      <td>...</td>\n",
       "      <td>...</td>\n",
       "    </tr>\n",
       "    <tr>\n",
       "      <th>54</th>\n",
       "      <td>18</td>\n",
       "      <td>8</td>\n",
       "      <td>3.821012</td>\n",
       "      <td>2.058445</td>\n",
       "      <td>0.777138</td>\n",
       "      <td>0.883608</td>\n",
       "      <td>0.0</td>\n",
       "    </tr>\n",
       "    <tr>\n",
       "      <th>38</th>\n",
       "      <td>16</td>\n",
       "      <td>8</td>\n",
       "      <td>3.821229</td>\n",
       "      <td>2.058771</td>\n",
       "      <td>0.777103</td>\n",
       "      <td>0.883593</td>\n",
       "      <td>0.0</td>\n",
       "    </tr>\n",
       "    <tr>\n",
       "      <th>30</th>\n",
       "      <td>15</td>\n",
       "      <td>8</td>\n",
       "      <td>3.824418</td>\n",
       "      <td>2.058124</td>\n",
       "      <td>0.776731</td>\n",
       "      <td>0.883389</td>\n",
       "      <td>0.0</td>\n",
       "    </tr>\n",
       "    <tr>\n",
       "      <th>22</th>\n",
       "      <td>14</td>\n",
       "      <td>8</td>\n",
       "      <td>3.825299</td>\n",
       "      <td>2.052135</td>\n",
       "      <td>0.776634</td>\n",
       "      <td>0.883302</td>\n",
       "      <td>0.0</td>\n",
       "    </tr>\n",
       "    <tr>\n",
       "      <th>14</th>\n",
       "      <td>13</td>\n",
       "      <td>8</td>\n",
       "      <td>3.829305</td>\n",
       "      <td>2.064570</td>\n",
       "      <td>0.776168</td>\n",
       "      <td>0.882991</td>\n",
       "      <td>0.0</td>\n",
       "    </tr>\n",
       "  </tbody>\n",
       "</table>\n",
       "<p>64 rows × 7 columns</p>\n",
       "</div>"
      ],
      "text/plain": [
       "    max depth  min sampl leaf      rmse       mae       rve      corr  pval\n",
       "9          13               3  3.470559  1.570764  0.816130  0.905716   0.0\n",
       "17         14               3  3.481730  1.580076  0.814942  0.905109   0.0\n",
       "25         15               3  3.525702  1.567968  0.810238  0.903177   0.0\n",
       "26         15               4  3.531189  1.631154  0.809663  0.902512   0.0\n",
       "50         18               4  3.536293  1.624029  0.809142  0.902472   0.0\n",
       "..        ...             ...       ...       ...       ...       ...   ...\n",
       "54         18               8  3.821012  2.058445  0.777138  0.883608   0.0\n",
       "38         16               8  3.821229  2.058771  0.777103  0.883593   0.0\n",
       "30         15               8  3.824418  2.058124  0.776731  0.883389   0.0\n",
       "22         14               8  3.825299  2.052135  0.776634  0.883302   0.0\n",
       "14         13               8  3.829305  2.064570  0.776168  0.882991   0.0\n",
       "\n",
       "[64 rows x 7 columns]"
      ]
     },
     "execution_count": 7,
     "metadata": {},
     "output_type": "execute_result"
    }
   ],
   "source": [
    "df_table.sort_values(by=['rmse'], ascending=True)"
   ]
  },
  {
   "cell_type": "markdown",
   "id": "dc01a72e",
   "metadata": {},
   "source": [
    "### 1.2 Regression\n",
    "- Linear\n",
    "- Lasso\n",
    "- Ridge"
   ]
  },
  {
   "cell_type": "markdown",
   "id": "c0c0b112",
   "metadata": {},
   "source": [
    "### 1.2.1 Linear Regression"
   ]
  },
  {
   "cell_type": "code",
   "execution_count": 8,
   "id": "3b38765e",
   "metadata": {},
   "outputs": [
    {
     "name": "stdout",
     "output_type": "stream",
     "text": [
      "The RVE is:  0.1449521905311416\n",
      "The rmse is:  7.484037284488653\n",
      "The Correlation Score is is: 0.3821 (p-value=1.891285e-68)\n",
      "\n",
      "The Mean Absolute Error is:  6.339598649099786\n"
     ]
    }
   ],
   "source": [
    "def printRegStatistics(truth, preds):\n",
    "    print(\"The RVE is: \", explained_variance_score(truth, preds))\n",
    "    print(\"The rmse is: \", mean_squared_error(truth, preds, squared=False))\n",
    "    corr, pval = pearsonr(truth, preds)\n",
    "    print(\"The Correlation Score is is: %6.4f (p-value=%e)\\n\"%(corr,pval))\n",
    "    print(\"The Mean Absolute Error is: \", mean_absolute_error(truth, preds))\n",
    "    #print('Max error between predictions and truth:',max_error(truth,preds))\n",
    "cv = KFold(n_splits=10, random_state=1, shuffle=True)\n",
    "#build multiple linear regression model\n",
    "model = LinearRegression()\n",
    "#use k-fold CV to evaluate model\n",
    "scores = cross_val_score(model, X_train, y_train, scoring='neg_mean_absolute_error',cv=cv, n_jobs=-1)\n",
    "preds = cross_val_predict(model, X_test,y_test, cv=cv, n_jobs=-1)\n",
    "printRegStatistics(y_test,preds)"
   ]
  },
  {
   "cell_type": "markdown",
   "id": "b61556af",
   "metadata": {},
   "source": [
    "### 1.2.2 Ridge Regression"
   ]
  },
  {
   "cell_type": "code",
   "execution_count": 9,
   "id": "3434838a",
   "metadata": {
    "scrolled": false
   },
   "outputs": [
    {
     "data": {
      "image/png": "[encoded data removed]",
      "text/plain": [
       "<Figure size 640x480 with 1 Axes>"
      ]
     },
     "metadata": {},
     "output_type": "display_data"
    }
   ],
   "source": [
    "rmse_train = []\n",
    "rmse_test = []\n",
    "alpha_rmse = []\n",
    "alphas=2**np.arange(-2,-10,-.05)\n",
    "for alpha in alphas:\n",
    "    ridge = Ridge(alpha=alpha, max_iter=100000).fit(X_train, y_train)\n",
    "    preds_tr=ridge.predict(X_train)\n",
    "    preds_te=ridge.predict(X_test)\n",
    "    rmse_train.append(mean_squared_error(y_train, preds_tr, squared=False))\n",
    "    rmse_test.append(mean_squared_error(y_test, preds_te, squared=False))\n",
    "    alpha_rmse.append([alpha,mean_squared_error(y_test, preds_te, squared=False)])    \n",
    "plt.plot(alphas, rmse_train, label=\"rmse Train\")    \n",
    "plt.plot(alphas, rmse_test, label=\"rmse Test\")    \n",
    "plt.grid()\n",
    "plt.legend()\n",
    "plt.show()"
   ]
  },
  {
   "cell_type": "markdown",
   "id": "ab505ba9",
   "metadata": {},
   "source": [
    "#### Best alpha \n",
    "For Ridge regression, the best values of alpha obtained were, for lower RMSE and MAE values: is 0.058315 there's when we get the lower rmse of 7.5166"
   ]
  },
  {
   "cell_type": "code",
   "execution_count": 10,
   "id": "e996f341",
   "metadata": {
    "scrolled": true
   },
   "outputs": [
    {
     "data": {
      "text/html": [
       "<div>\n",
       "<style scoped>\n",
       "    .dataframe tbody tr th:only-of-type {\n",
       "        vertical-align: middle;\n",
       "    }\n",
       "\n",
       "    .dataframe tbody tr th {\n",
       "        vertical-align: top;\n",
       "    }\n",
       "\n",
       "    .dataframe thead th {\n",
       "        text-align: right;\n",
       "    }\n",
       "</style>\n",
       "<table border=\"1\" class=\"dataframe\">\n",
       "  <thead>\n",
       "    <tr style=\"text-align: right;\">\n",
       "      <th></th>\n",
       "      <th>alpha</th>\n",
       "      <th>rmse</th>\n",
       "    </tr>\n",
       "  </thead>\n",
       "  <tbody>\n",
       "    <tr>\n",
       "      <th>51</th>\n",
       "      <td>0.042689</td>\n",
       "      <td>7.523548</td>\n",
       "    </tr>\n",
       "    <tr>\n",
       "      <th>50</th>\n",
       "      <td>0.044194</td>\n",
       "      <td>7.523552</td>\n",
       "    </tr>\n",
       "    <tr>\n",
       "      <th>52</th>\n",
       "      <td>0.041235</td>\n",
       "      <td>7.523553</td>\n",
       "    </tr>\n",
       "    <tr>\n",
       "      <th>49</th>\n",
       "      <td>0.045753</td>\n",
       "      <td>7.523564</td>\n",
       "    </tr>\n",
       "    <tr>\n",
       "      <th>53</th>\n",
       "      <td>0.039830</td>\n",
       "      <td>7.523566</td>\n",
       "    </tr>\n",
       "    <tr>\n",
       "      <th>...</th>\n",
       "      <td>...</td>\n",
       "      <td>...</td>\n",
       "    </tr>\n",
       "    <tr>\n",
       "      <th>4</th>\n",
       "      <td>0.217638</td>\n",
       "      <td>7.535414</td>\n",
       "    </tr>\n",
       "    <tr>\n",
       "      <th>3</th>\n",
       "      <td>0.225313</td>\n",
       "      <td>7.535898</td>\n",
       "    </tr>\n",
       "    <tr>\n",
       "      <th>2</th>\n",
       "      <td>0.233258</td>\n",
       "      <td>7.536388</td>\n",
       "    </tr>\n",
       "    <tr>\n",
       "      <th>1</th>\n",
       "      <td>0.241484</td>\n",
       "      <td>7.536884</td>\n",
       "    </tr>\n",
       "    <tr>\n",
       "      <th>0</th>\n",
       "      <td>0.250000</td>\n",
       "      <td>7.537385</td>\n",
       "    </tr>\n",
       "  </tbody>\n",
       "</table>\n",
       "<p>160 rows × 2 columns</p>\n",
       "</div>"
      ],
      "text/plain": [
       "       alpha      rmse\n",
       "51  0.042689  7.523548\n",
       "50  0.044194  7.523552\n",
       "52  0.041235  7.523553\n",
       "49  0.045753  7.523564\n",
       "53  0.039830  7.523566\n",
       "..       ...       ...\n",
       "4   0.217638  7.535414\n",
       "3   0.225313  7.535898\n",
       "2   0.233258  7.536388\n",
       "1   0.241484  7.536884\n",
       "0   0.250000  7.537385\n",
       "\n",
       "[160 rows x 2 columns]"
      ]
     },
     "execution_count": 10,
     "metadata": {},
     "output_type": "execute_result"
    }
   ],
   "source": [
    "df_rmse_test = pd.DataFrame(alpha_rmse, columns = ['alpha','rmse'])\n",
    "df_rmse_test.sort_values(by=['rmse'])"
   ]
  },
  {
   "cell_type": "code",
   "execution_count": 11,
   "id": "5177aed9",
   "metadata": {
    "scrolled": true
   },
   "outputs": [
    {
     "data": {
      "image/png": "[encoded data removed]",
      "text/plain": [
       "<Figure size 1000x700 with 1 Axes>"
      ]
     },
     "metadata": {},
     "output_type": "display_data"
    }
   ],
   "source": [
    "#compute coefficients for many alpha values\n",
    "coefs=[]\n",
    "alphas=2**np.arange(5,-10,-.1)\n",
    "for alpha in alphas:\n",
    "    ridge= Ridge(alpha=alpha, max_iter=100000).fit(X_train, y_train)\n",
    "    coefs.append(ridge.coef_)\n",
    "coefs=np.array(coefs)\n",
    "#plot results\n",
    "N,M=X_train.shape\n",
    "plt.figure(figsize=(10,7))\n",
    "for i in range(M):\n",
    "    plt.plot(alphas, coefs[:,i], label=\"Var %d\" % (i+1))\n",
    "plt.axvline(x = 0.058315, color = 'b', label = 'best Alpha')\n",
    "plt.xscale(\"log\")\n",
    "plt.legend()\n",
    "plt.grid()\n",
    "plt.show()"
   ]
  },
  {
   "cell_type": "code",
   "execution_count": 12,
   "id": "a57a8cc9",
   "metadata": {},
   "outputs": [
    {
     "name": "stdout",
     "output_type": "stream",
     "text": [
      "The RVE is:  0.1336274623033229\n",
      "The rmse is:  7.533432383346362\n",
      "The Correlation Score is is: 0.3656 (p-value=2.130408e-62)\n",
      "\n",
      "The Mean Absolute Error is:  6.368294440078424\n"
     ]
    }
   ],
   "source": [
    "cv = KFold(n_splits=10, random_state=1, shuffle=True)\n",
    "#build multiple linear regression model\n",
    "model = Ridge(alpha=0.058315, max_iter=100000)\n",
    "#use k-fold CV to evaluate model\n",
    "scores = cross_val_score(model, X_train, y_train, scoring='neg_mean_absolute_error',cv=cv, n_jobs=-1)\n",
    "preds = cross_val_predict(model, X_test,y_test, cv=cv, n_jobs=-1)\n",
    "printRegStatistics(y_test,preds)"
   ]
  },
  {
   "cell_type": "markdown",
   "id": "2dfa099b",
   "metadata": {},
   "source": [
    "### 1.2.3 Lasso\n",
    "For this case smaller alphas get better statistics "
   ]
  },
  {
   "cell_type": "code",
   "execution_count": 13,
   "id": "c687cc9a",
   "metadata": {
    "scrolled": false
   },
   "outputs": [
    {
     "data": {
      "image/png": "[encoded data removed]",
      "text/plain": [
       "<Figure size 640x480 with 1 Axes>"
      ]
     },
     "metadata": {},
     "output_type": "display_data"
    }
   ],
   "source": [
    "rmse_train = []\n",
    "rmse_test = []\n",
    "alphas=2**np.arange(-2,-10,-.05)\n",
    "for alpha in alphas:\n",
    "    L = Lasso(alpha=alpha, max_iter=100000).fit(X_train, y_train)\n",
    "    preds_tr=L.predict(X_train)\n",
    "    preds_te=L.predict(X_test)\n",
    "    rmse_train.append(mean_squared_error(y_train, preds_tr, squared=False))\n",
    "    rmse_test.append(mean_squared_error(y_test, preds_te, squared=False))    \n",
    "plt.plot(alphas, rmse_train, label=\"rmse Train\")    \n",
    "plt.plot(alphas, rmse_test, label=\"rmse Test\")    \n",
    "plt.grid()\n",
    "plt.legend()\n",
    "plt.show()"
   ]
  },
  {
   "cell_type": "code",
   "execution_count": 14,
   "id": "4fcd2dd0",
   "metadata": {},
   "outputs": [
    {
     "name": "stdout",
     "output_type": "stream",
     "text": [
      "The bias is:  27.289334721891752\n",
      "The other parameters are: \n",
      "\t B01 ->     0.204\n",
      "\t B02 ->    -0.000\n",
      "\t B03 ->     0.013\n",
      "\t B04 ->    -0.000\n",
      "\t B05 ->    -0.000\n",
      "\t B06 ->    -0.000\n",
      "\t B07 ->    -0.000\n",
      "\t B08 ->    -0.000\n",
      "\t B09 ->    -0.000\n",
      "\t B10 ->    -3.675\n",
      "\t B11 ->    -0.000\n",
      "\t B12 ->    -0.000\n",
      "\t B13 ->     0.000\n",
      "\t B14 ->    -0.000\n",
      "\t B15 ->    -4.732\n",
      "\t B16 ->    -0.392\n",
      "\t B17 ->     0.000\n",
      "\t B18 ->   -20.308\n",
      "\t B19 ->    11.451\n",
      "The RVE is:  0.1245582917985274\n",
      "The rmse is:  7.577487023864207\n",
      "The Correlation Score is is: 0.3530 (p-value=5.492866e-58)\n",
      "\n",
      "The Mean Absolute Error is:  6.4412750218377255\n"
     ]
    }
   ],
   "source": [
    "L = Lasso(alpha=0.01, max_iter=9999999).fit(X_train, y_train)\n",
    "print(\"The bias is: \",  L.intercept_)\n",
    "print(\"The other parameters are: \")\n",
    "for i, beta in enumerate(L.coef_):\n",
    "    print(\"\\t B%02d -> %9.3f\"% (i+1, beta))    \n",
    "preds=L.predict(X_test)\n",
    "printRegStatistics(y_test, preds)"
   ]
  },
  {
   "cell_type": "code",
   "execution_count": 15,
   "id": "2e6c0f6e",
   "metadata": {
    "scrolled": false
   },
   "outputs": [
    {
     "name": "stdout",
     "output_type": "stream",
     "text": [
      "The RVE is:  0.12350958191769512\n",
      "The rmse is:  7.577293992225079\n",
      "The Correlation Score is is: 0.3515 (p-value=1.777633e-57)\n",
      "\n",
      "The Mean Absolute Error is:  6.434970999926388\n"
     ]
    }
   ],
   "source": [
    "cv = KFold(n_splits=10, random_state=1, shuffle=True)\n",
    "#build multiple linear regression model\n",
    "model = Lasso(alpha=0.01, max_iter=100000)\n",
    "#use k-fold CV to evaluate model\n",
    "scores = cross_val_score(model, X_train, y_train, scoring='neg_mean_absolute_error',cv=cv, n_jobs=-1)\n",
    "preds = cross_val_predict(model, X_test,y_test, cv=cv, n_jobs=-1)\n",
    "printRegStatistics(y_test, preds)"
   ]
  },
  {
   "cell_type": "markdown",
   "id": "9c8f7b5a",
   "metadata": {},
   "source": [
    "This Regression model has indeed better statistical results with smaller values of alpha. This fact can also point out that linear regression would be better. On the other hand for larger values of alpha the actual training error can be larger than the testing error."
   ]
  },
  {
   "cell_type": "markdown",
   "id": "4a984cbe",
   "metadata": {},
   "source": [
    "### 1.3 Model Selection\n",
    "\n",
    "The model chosen was the Decision Tree Regressor as  it presents a higher value of RVE, closer to 1 a lower RMSE and MAE values and a higher correlation in comparison with the remaining values (refer to table 1).\n",
    "\n",
    "Validation through IVS was performed for Decision Tree Regressor with max depth = 13 and min sample leaf = 3"
   ]
  },
  {
   "cell_type": "code",
   "execution_count": 16,
   "id": "1a86e5c1",
   "metadata": {},
   "outputs": [],
   "source": [
    "model = DecisionTreeRegressor(max_depth=13, min_samples_leaf=3)\n",
    "model.fit(X_train,y_train)\n",
    "preds = model.predict(X_IVS)"
   ]
  },
  {
   "cell_type": "code",
   "execution_count": 17,
   "id": "51b465bf",
   "metadata": {
    "scrolled": true
   },
   "outputs": [
    {
     "name": "stdout",
     "output_type": "stream",
     "text": [
      "The RVE is:  0.8696025381802259\n",
      "The rmse is:  2.936438865366063\n",
      "The Correlation Score is is: 0.9340 (p-value=0.000000e+00)\n",
      "\n",
      "The Mean Absolute Error is:  1.0966966742387814\n"
     ]
    }
   ],
   "source": [
    "printRegStatistics(y_IVS,preds)"
   ]
  },
  {
   "cell_type": "markdown",
   "id": "ac0b63dc",
   "metadata": {},
   "source": [
    "After model evaluation, only a validation through IVS was performed for the Decision Tree Regressor, since it was more suitable. For this step, a max depth and min sample leaf equal to 13 and 3, respectively, were selected as it presented the lowest values of RMSE and MAE and a higher value of RVE. After performing the validation through IVS, the following values obtained were: RVE = 0.8745, RMSE = 2.8824, MAE = 1.080 and Pearson correlation = 0.9366. These results support the selection of the Decision Tree regressor model, since it presents a high value of RVE and a positive correlation between truth values and predicted values. Moreover, after the validation, the MAE and RMSE values decreased."
   ]
  },
  {
   "cell_type": "markdown",
   "id": "42f5427a",
   "metadata": {},
   "source": [
    "<a id='section3'></a>\n",
    "## 2. Classifiers\n",
    "\n",
    "The aim in this objective was to produce the best binary classification model. To accomplish that purpose we have made a split in the total_UPDRS instance, assuming that the values above 40 are positives and the values below 40 are negatives. Doing that we have binarized the variable. We opted to use a Decision Tree Classifier and a Logistic Regression\n",
    "\n",
    "- Decision Tree Classifier\n",
    "- Logistic Regression"
   ]
  },
  {
   "cell_type": "markdown",
   "id": "9e9c5162",
   "metadata": {},
   "source": [
    "##### To evaluate classifiers we can use:\n",
    "- Accuracy\n",
    "- Precision\n",
    "- Recall\n",
    "- F1\n",
    "- Matthews Correlation"
   ]
  },
  {
   "cell_type": "code",
   "execution_count": 18,
   "id": "2a019e46",
   "metadata": {},
   "outputs": [],
   "source": [
    "dg = pd.read_csv(\"parkinsons_updrs.data\")"
   ]
  },
  {
   "cell_type": "code",
   "execution_count": 19,
   "id": "da7925bb",
   "metadata": {},
   "outputs": [],
   "source": [
    "dg['total_UPDRS_bin'] = np.where(dg['total_UPDRS']> 40.0, 1, 0)"
   ]
  },
  {
   "cell_type": "code",
   "execution_count": 20,
   "id": "a919da01",
   "metadata": {},
   "outputs": [],
   "source": [
    "X=dg.drop(columns=[\"motor_UPDRS\",\"subject#\",\"total_UPDRS\",\"total_UPDRS_bin\"])\n",
    "y=dg['total_UPDRS_bin']"
   ]
  },
  {
   "cell_type": "code",
   "execution_count": 21,
   "id": "b80af274",
   "metadata": {},
   "outputs": [],
   "source": [
    "X_train, X_test, ybin_train, ybin_test = train_test_split(X, y, test_size=0.33, random_state=22)\n",
    "X_train, X_IVS, ybin_train, ybin_IVS = train_test_split(X_train, ybin_train, test_size=0.33, random_state=22)"
   ]
  },
  {
   "cell_type": "markdown",
   "id": "8b7409c0",
   "metadata": {},
   "source": [
    "### 2.1 Decision Tree Classifier"
   ]
  },
  {
   "cell_type": "markdown",
   "id": "406c5c9a",
   "metadata": {},
   "source": [
    "Decision trees are a supervised learning algorithm. They are simple to understand and to interpret, however it is hard to build the perfect decision tree classifier and they overfit easily.\n",
    "As soon as we binarized the data, we split once again in train and test sets, in this case we have removed the new feature created called total_UPDRS_bin, which stands for the binarized variable made out of the total_UPDRS following the criteria described above.\n",
    "In order to figure out the best hyperparameters to apply to the model we did a for loop to try different values for both the max depth and the minimum samples leaf.\n",
    "Eventually we needed to do an IVS (independent validation set). Our main concern was not to repeat the process, regardless of the results obtained, otherwise it wouldn't simulate real world data"
   ]
  },
  {
   "cell_type": "code",
   "execution_count": 22,
   "id": "88982487",
   "metadata": {
    "scrolled": true
   },
   "outputs": [
    {
     "data": {
      "text/html": [
       "<div>\n",
       "<style scoped>\n",
       "    .dataframe tbody tr th:only-of-type {\n",
       "        vertical-align: middle;\n",
       "    }\n",
       "\n",
       "    .dataframe tbody tr th {\n",
       "        vertical-align: top;\n",
       "    }\n",
       "\n",
       "    .dataframe thead th {\n",
       "        text-align: right;\n",
       "    }\n",
       "</style>\n",
       "<table border=\"1\" class=\"dataframe\">\n",
       "  <thead>\n",
       "    <tr style=\"text-align: right;\">\n",
       "      <th></th>\n",
       "      <th>max depth</th>\n",
       "      <th>min sample leaf</th>\n",
       "      <th>accuracy</th>\n",
       "      <th>precision</th>\n",
       "      <th>recall</th>\n",
       "      <th>f1</th>\n",
       "      <th>matthew corr</th>\n",
       "    </tr>\n",
       "  </thead>\n",
       "  <tbody>\n",
       "    <tr>\n",
       "      <th>32</th>\n",
       "      <td>16</td>\n",
       "      <td>2</td>\n",
       "      <td>0.966478</td>\n",
       "      <td>0.919614</td>\n",
       "      <td>0.877301</td>\n",
       "      <td>0.897959</td>\n",
       "      <td>0.878266</td>\n",
       "    </tr>\n",
       "    <tr>\n",
       "      <th>49</th>\n",
       "      <td>18</td>\n",
       "      <td>3</td>\n",
       "      <td>0.959773</td>\n",
       "      <td>0.882716</td>\n",
       "      <td>0.877301</td>\n",
       "      <td>0.880000</td>\n",
       "      <td>0.855843</td>\n",
       "    </tr>\n",
       "    <tr>\n",
       "      <th>16</th>\n",
       "      <td>14</td>\n",
       "      <td>2</td>\n",
       "      <td>0.964415</td>\n",
       "      <td>0.910543</td>\n",
       "      <td>0.874233</td>\n",
       "      <td>0.892019</td>\n",
       "      <td>0.870985</td>\n",
       "    </tr>\n",
       "    <tr>\n",
       "      <th>57</th>\n",
       "      <td>19</td>\n",
       "      <td>3</td>\n",
       "      <td>0.961320</td>\n",
       "      <td>0.893417</td>\n",
       "      <td>0.874233</td>\n",
       "      <td>0.883721</td>\n",
       "      <td>0.860599</td>\n",
       "    </tr>\n",
       "    <tr>\n",
       "      <th>56</th>\n",
       "      <td>19</td>\n",
       "      <td>2</td>\n",
       "      <td>0.963383</td>\n",
       "      <td>0.907348</td>\n",
       "      <td>0.871166</td>\n",
       "      <td>0.888889</td>\n",
       "      <td>0.867237</td>\n",
       "    </tr>\n",
       "    <tr>\n",
       "      <th>...</th>\n",
       "      <td>...</td>\n",
       "      <td>...</td>\n",
       "      <td>...</td>\n",
       "      <td>...</td>\n",
       "      <td>...</td>\n",
       "      <td>...</td>\n",
       "      <td>...</td>\n",
       "    </tr>\n",
       "    <tr>\n",
       "      <th>35</th>\n",
       "      <td>16</td>\n",
       "      <td>5</td>\n",
       "      <td>0.953584</td>\n",
       "      <td>0.873418</td>\n",
       "      <td>0.846626</td>\n",
       "      <td>0.859813</td>\n",
       "      <td>0.832154</td>\n",
       "    </tr>\n",
       "    <tr>\n",
       "      <th>43</th>\n",
       "      <td>17</td>\n",
       "      <td>5</td>\n",
       "      <td>0.954616</td>\n",
       "      <td>0.878981</td>\n",
       "      <td>0.846626</td>\n",
       "      <td>0.862500</td>\n",
       "      <td>0.835545</td>\n",
       "    </tr>\n",
       "    <tr>\n",
       "      <th>27</th>\n",
       "      <td>15</td>\n",
       "      <td>5</td>\n",
       "      <td>0.952553</td>\n",
       "      <td>0.870253</td>\n",
       "      <td>0.843558</td>\n",
       "      <td>0.856698</td>\n",
       "      <td>0.828420</td>\n",
       "    </tr>\n",
       "    <tr>\n",
       "      <th>28</th>\n",
       "      <td>15</td>\n",
       "      <td>6</td>\n",
       "      <td>0.949974</td>\n",
       "      <td>0.856698</td>\n",
       "      <td>0.843558</td>\n",
       "      <td>0.850077</td>\n",
       "      <td>0.820093</td>\n",
       "    </tr>\n",
       "    <tr>\n",
       "      <th>51</th>\n",
       "      <td>18</td>\n",
       "      <td>5</td>\n",
       "      <td>0.953584</td>\n",
       "      <td>0.875796</td>\n",
       "      <td>0.843558</td>\n",
       "      <td>0.859375</td>\n",
       "      <td>0.831801</td>\n",
       "    </tr>\n",
       "  </tbody>\n",
       "</table>\n",
       "<p>64 rows × 7 columns</p>\n",
       "</div>"
      ],
      "text/plain": [
       "    max depth  min sample leaf  accuracy  precision    recall        f1  \\\n",
       "32         16                2  0.966478   0.919614  0.877301  0.897959   \n",
       "49         18                3  0.959773   0.882716  0.877301  0.880000   \n",
       "16         14                2  0.964415   0.910543  0.874233  0.892019   \n",
       "57         19                3  0.961320   0.893417  0.874233  0.883721   \n",
       "56         19                2  0.963383   0.907348  0.871166  0.888889   \n",
       "..        ...              ...       ...        ...       ...       ...   \n",
       "35         16                5  0.953584   0.873418  0.846626  0.859813   \n",
       "43         17                5  0.954616   0.878981  0.846626  0.862500   \n",
       "27         15                5  0.952553   0.870253  0.843558  0.856698   \n",
       "28         15                6  0.949974   0.856698  0.843558  0.850077   \n",
       "51         18                5  0.953584   0.875796  0.843558  0.859375   \n",
       "\n",
       "    matthew corr  \n",
       "32      0.878266  \n",
       "49      0.855843  \n",
       "16      0.870985  \n",
       "57      0.860599  \n",
       "56      0.867237  \n",
       "..           ...  \n",
       "35      0.832154  \n",
       "43      0.835545  \n",
       "27      0.828420  \n",
       "28      0.820093  \n",
       "51      0.831801  \n",
       "\n",
       "[64 rows x 7 columns]"
      ]
     },
     "execution_count": 22,
     "metadata": {},
     "output_type": "execute_result"
    }
   ],
   "source": [
    "cv = KFold(n_splits=10, random_state=1, shuffle=True)        \n",
    "table = []\n",
    "for i in range(12,20):\n",
    "    for j in range(2,10):\n",
    "        model = DecisionTreeClassifier(max_depth=i, min_samples_leaf=j)      \n",
    "#use k-fold CV to evaluate model\n",
    "        scores = cross_val_score(model, X_train, ybin_train, scoring='neg_mean_absolute_error',cv=cv, n_jobs=-1)\n",
    "        preds = cross_val_predict(model, X_test, ybin_test, cv=cv, n_jobs=-1)\n",
    "#get metrics\n",
    "        acc = accuracy_score(ybin_test, preds)\n",
    "        precision = precision_score(ybin_test, preds)\n",
    "        recall = recall_score(ybin_test, preds)\n",
    "        f1= f1_score(ybin_test, preds)\n",
    "        matt_corr = matthews_corrcoef(ybin_test, preds)\n",
    "        table.append([i,j,acc,precision, recall,f1,matt_corr])\n",
    "\n",
    "df_table = pd.DataFrame(table, columns = ['max depth','min sample leaf','accuracy','precision','recall','f1','matthew corr'])\n",
    "df_table.sort_values(by=['recall'], ascending=False)"
   ]
  },
  {
   "cell_type": "code",
   "execution_count": 23,
   "id": "9d60f3c0",
   "metadata": {},
   "outputs": [
    {
     "data": {
      "text/html": [
       "<div>\n",
       "<style scoped>\n",
       "    .dataframe tbody tr th:only-of-type {\n",
       "        vertical-align: middle;\n",
       "    }\n",
       "\n",
       "    .dataframe tbody tr th {\n",
       "        vertical-align: top;\n",
       "    }\n",
       "\n",
       "    .dataframe thead th {\n",
       "        text-align: right;\n",
       "    }\n",
       "</style>\n",
       "<table border=\"1\" class=\"dataframe\">\n",
       "  <thead>\n",
       "    <tr style=\"text-align: right;\">\n",
       "      <th></th>\n",
       "      <th>0</th>\n",
       "      <th>1</th>\n",
       "    </tr>\n",
       "  </thead>\n",
       "  <tbody>\n",
       "    <tr>\n",
       "      <th>0</th>\n",
       "      <td>1575</td>\n",
       "      <td>38</td>\n",
       "    </tr>\n",
       "    <tr>\n",
       "      <th>1</th>\n",
       "      <td>44</td>\n",
       "      <td>282</td>\n",
       "    </tr>\n",
       "  </tbody>\n",
       "</table>\n",
       "</div>"
      ],
      "text/plain": [
       "      0    1\n",
       "0  1575   38\n",
       "1    44  282"
      ]
     },
     "execution_count": 23,
     "metadata": {},
     "output_type": "execute_result"
    }
   ],
   "source": [
    "#Print the Confusion Matrix\n",
    "pd.DataFrame(confusion_matrix(ybin_test, preds))"
   ]
  },
  {
   "cell_type": "markdown",
   "id": "15fe8f8a",
   "metadata": {},
   "source": [
    "The sweet spot for the hyperparameters was found with a max depth around 15 and a minimum sample per leaf of 2."
   ]
  },
  {
   "cell_type": "code",
   "execution_count": 24,
   "id": "77eb91ab",
   "metadata": {},
   "outputs": [],
   "source": [
    "#Independent Validation Set (IVS)\n",
    "model = DecisionTreeClassifier(max_depth=15, min_samples_leaf=2).fit(X_train, ybin_train)\n",
    "preds = model.predict(X_IVS)"
   ]
  },
  {
   "cell_type": "code",
   "execution_count": 25,
   "id": "e828353d",
   "metadata": {
    "scrolled": true
   },
   "outputs": [
    {
     "name": "stdout",
     "output_type": "stream",
     "text": [
      "The Accuracy is:  0.9738\n",
      "The Precision is:  0.9493\n",
      "The Recall is:  0.8996\n",
      "The F1 score is:  0.9238\n",
      "The Matthews correlation coefficient is:  0.9085\n",
      "\n",
      "This is the Confusion Matrix\n",
      "      0    1\n",
      "0  1059   11\n",
      "1    23  206\n"
     ]
    }
   ],
   "source": [
    "def printClassResults(truth, preds):\n",
    "    print(\"The Accuracy is: %7.4f\" % accuracy_score(truth, preds))\n",
    "    print(\"The Precision is: %7.4f\" % precision_score(truth, preds))\n",
    "    print(\"The Recall is: %7.4f\" % recall_score(truth, preds))\n",
    "    print(\"The F1 score is: %7.4f\" % f1_score(truth, preds))\n",
    "    print(\"The Matthews correlation coefficient is: %7.4f\" % matthews_corrcoef(truth, preds))\n",
    "    print()\n",
    "    print(\"This is the Confusion Matrix\")\n",
    "    print(pd.DataFrame(confusion_matrix(truth, preds)))\n",
    "printClassResults(ybin_IVS,preds)"
   ]
  },
  {
   "cell_type": "markdown",
   "id": "e7f90d37",
   "metadata": {},
   "source": [
    "### 2.2 Logistic Regression"
   ]
  },
  {
   "cell_type": "markdown",
   "id": "dbf21446",
   "metadata": {},
   "source": [
    "For logistic regression we tried to do a 10-fold cross validation to evaluate this model, but failed to make good predictions, perhaps due to the fact that our dependent variable is significantly unbalanced or any other factor beyond our comprehension. The predictions tended to be prominently for the negatives in a ratio too far apart from the ratio on the test set thus leading to very bad statistics beyond accuracy, for obvious reasons."
   ]
  },
  {
   "cell_type": "code",
   "execution_count": 26,
   "id": "0f15aec1",
   "metadata": {},
   "outputs": [],
   "source": [
    "df = pd.read_csv(\"parkinsons_updrs.data\")\n",
    "df = df.drop(columns = ['subject#'])\n",
    "df_binary = pd.cut(df['total_UPDRS'],bins=[0,40,99],labels=[0,1])\n",
    "df.insert(5, 'total_UPDRS_bin', df_binary)\n",
    "df = df.drop(columns = ['motor_UPDRS','total_UPDRS'])\n",
    "X = df.drop(columns = ['total_UPDRS_bin'])\n",
    "y = df['total_UPDRS_bin']"
   ]
  },
  {
   "cell_type": "code",
   "execution_count": 27,
   "id": "208770f4",
   "metadata": {},
   "outputs": [
    {
     "name": "stdout",
     "output_type": "stream",
     "text": [
      "1006 positives 4869 negatives\n"
     ]
    }
   ],
   "source": [
    "def counter(y):\n",
    "    zero = 0\n",
    "    um = 0\n",
    "    for i in y:\n",
    "        if i == 0:\n",
    "            zero += 1\n",
    "        elif i == 1:\n",
    "            um += 1\n",
    "    print(um,'positives',zero,'negatives') \n",
    "counter(y)"
   ]
  },
  {
   "cell_type": "code",
   "execution_count": 28,
   "id": "c49ebf11",
   "metadata": {},
   "outputs": [],
   "source": [
    "def printClassResults(truth, preds):\n",
    "    print(\"The Accuracy is: %7.4f\" % accuracy_score(truth, preds))\n",
    "    print(\"The Precision is: %7.4f\" % precision_score(truth, preds))\n",
    "    print(\"The Recall is: %7.4f\" % recall_score(truth, preds))\n",
    "    print(\"The F1 score is: %7.4f\" % f1_score(truth, preds))\n",
    "    print(\"The Matthews correlation coefficient is: %7.4f\" % matthews_corrcoef(truth, preds))\n",
    "    print()\n",
    "    print(\"This is the Confusion Matrix\")\n",
    "    print(pd.DataFrame(confusion_matrix(truth, preds)))"
   ]
  },
  {
   "cell_type": "code",
   "execution_count": 29,
   "id": "bc5bf394",
   "metadata": {},
   "outputs": [],
   "source": [
    "from sklearn.preprocessing import StandardScaler\n",
    "scaler = StandardScaler()\n",
    "scaler.fit(X_train)\n",
    "X_train = scaler.transform(X_train)\n",
    "X_test = scaler.transform(X_test)"
   ]
  },
  {
   "cell_type": "code",
   "execution_count": 30,
   "id": "6ed13703",
   "metadata": {},
   "outputs": [
    {
     "name": "stdout",
     "output_type": "stream",
     "text": [
      "19 positives 1920 negatives\n",
      "The Accuracy is:  0.8324\n",
      "The Precision is:  0.5263\n",
      "The Recall is:  0.0307\n",
      "The F1 score is:  0.0580\n",
      "The Matthews correlation coefficient is:  0.0953\n",
      "\n",
      "This is the Confusion Matrix\n",
      "      0   1\n",
      "0  1604   9\n",
      "1   316  10\n"
     ]
    }
   ],
   "source": [
    "mdl= LogisticRegression(random_state=0).fit(X_train, ybin_train)\n",
    "preds = mdl.predict(X_test)\n",
    "counter(preds)\n",
    "printClassResults(ybin_test, preds)"
   ]
  }
 ],
 "metadata": {
  "kernelspec": {
   "display_name": "Python 3 (ipykernel)",
   "language": "python",
   "name": "python3"
  },
  "language_info": {
   "codemirror_mode": {
    "name": "ipython",
    "version": 3
   },
   "file_extension": ".py",
   "mimetype": "text/x-python",
   "name": "python",
   "nbconvert_exporter": "python",
   "pygments_lexer": "ipython3",
   "version": "3.9.13"
  }
 },
 "nbformat": 4,
 "nbformat_minor": 5
}
